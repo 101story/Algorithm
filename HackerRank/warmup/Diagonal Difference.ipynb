{
 "cells": [
  {
   "cell_type": "markdown",
   "metadata": {},
   "source": [
    "** Dashboard > Algorithms > Warmup > Diagonal Difference ** \n",
    "\n",
    "Given a square matrix of size N x N, calculate the absolute difference between the sums of its diagonals.\n",
    "\n",
    "** Input Format** \n",
    "\n",
    "The first line contains a single integer N, . The next  N lines denote the matrix's rows, with each line containing N space-separated integers describing the columns.\n",
    "\n",
    "**Constraints**\n",
    "\n",
    "$$-100 <= Elements  in  the  matrix <= 100$$\n",
    "\n",
    "**Output Format**\n",
    "\n",
    "Print the absolute difference between the two sums of the matrix's diagonals as a single integer.\n",
    "\n",
    "**Sample Input**\n",
    "\n",
    "3 <br>\n",
    "11 2 4 <br>\n",
    "4 5 6 <br>\n",
    "10 8 -12 <br>\n",
    "**Sample Output**\n",
    "\n",
    "15 <br>\n",
    "**Explanation**\n",
    "\n",
    "The primary diagonal is:\n",
    "\n",
    "11 <br>\n",
    "   5 <br>\n",
    "     -12 <br>\n",
    "Sum across the primary diagonal: 11 + 5 - 12 = 4\n",
    "\n",
    "The secondary diagonal is:\n",
    "\n",
    "4  <br>\n",
    "   5 <br>\n",
    "10 <br>\n",
    "Sum across the secondary diagonal: 4 + 5 + 10 = 19 <br>\n",
    "Difference: |4 - 19| = 15\n",
    "\n",
    "Note: |x| is absolute value function"
   ]
  },
  {
   "cell_type": "code",
   "execution_count": 16,
   "metadata": {},
   "outputs": [
    {
     "name": "stdout",
     "output_type": "stream",
     "text": [
      "0\n"
     ]
    }
   ],
   "source": [
    "n = int(3)\n",
    "a = []\n",
    "for a_i in range(n):\n",
    "    a_t = [int(a_temp) for a_temp in [11, 2, 4]]\n",
    "    a.append(a_t)\n",
    "\n",
    "diag = []\n",
    "f =0\n",
    "obliq = []\n",
    "e = n-1\n",
    "\n",
    "for b in a :\n",
    "    diag.append(b[f])\n",
    "    obliq.append(b[e])\n",
    "    f += 1\n",
    "    e -= 1\n",
    "    \n",
    "\n",
    "result =abs(sum(diag)-sum(obliq))\n",
    "\n",
    "print(result)\n"
   ]
  },
  {
   "cell_type": "code",
   "execution_count": 3,
   "metadata": {},
   "outputs": [
    {
     "data": {
      "text/plain": [
       "[[11, 2, 4], [11, 2, 4], [11, 2, 4]]"
      ]
     },
     "execution_count": 3,
     "metadata": {},
     "output_type": "execute_result"
    }
   ],
   "source": [
    "a"
   ]
  }
 ],
 "metadata": {
  "kernelspec": {
   "display_name": "Python 3",
   "language": "python",
   "name": "python3"
  },
  "language_info": {
   "codemirror_mode": {
    "name": "ipython",
    "version": 3
   },
   "file_extension": ".py",
   "mimetype": "text/x-python",
   "name": "python",
   "nbconvert_exporter": "python",
   "pygments_lexer": "ipython3",
   "version": "3.6.1"
  }
 },
 "nbformat": 4,
 "nbformat_minor": 2
}
