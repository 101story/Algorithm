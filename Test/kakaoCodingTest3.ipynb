{
 "cells": [
  {
   "cell_type": "code",
   "execution_count": 11,
   "metadata": {
    "collapsed": true
   },
   "outputs": [],
   "source": [
    "from IPython.core.interactiveshell import InteractiveShell\n",
    "InteractiveShell.ast_node_interactivity = \"all\" "
   ]
  },
  {
   "cell_type": "code",
   "execution_count": 63,
   "metadata": {},
   "outputs": [
    {
     "data": {
      "text/plain": [
       "['Jeju', 'Pangyo', 'Seoul']"
      ]
     },
     "execution_count": 63,
     "metadata": {},
     "output_type": "execute_result"
    },
    {
     "data": {
      "text/plain": [
       "15"
      ]
     },
     "execution_count": 63,
     "metadata": {},
     "output_type": "execute_result"
    },
    {
     "data": {
      "text/plain": [
       "0"
      ]
     },
     "execution_count": 63,
     "metadata": {},
     "output_type": "execute_result"
    },
    {
     "data": {
      "text/plain": [
       "[0, 1, 2]"
      ]
     },
     "execution_count": 63,
     "metadata": {},
     "output_type": "execute_result"
    }
   ],
   "source": [
    "n = 3\n",
    "cities = [\"Jeju\", \"Pangyo\", \"Seoul\", \"NewYork\", \"LA\", \"Jeju\", \"Pangyo\", \"Seoul\", \"NewYork\", \"LA\"]\n",
    "\n",
    "arr = [cities[i] for i in range(3)]\n",
    "extime = 5*n\n",
    "seqidx = list(range(n))\n",
    "\n",
    "arr\n",
    "extime\n",
    "seqidx"
   ]
  },
  {
   "cell_type": "code",
   "execution_count": 44,
   "metadata": {},
   "outputs": [],
   "source": [
    "def shift(l, innum):\n",
    "    del l[l.index(innum)]\n",
    "    l.append(innum)\n",
    "    return l"
   ]
  },
  {
   "cell_type": "code",
   "execution_count": 45,
   "metadata": {},
   "outputs": [
    {
     "data": {
      "text/plain": [
       "[2, 3, 1]"
      ]
     },
     "execution_count": 45,
     "metadata": {},
     "output_type": "execute_result"
    },
    {
     "data": {
      "text/plain": [
       "[1, 2, 3]"
      ]
     },
     "execution_count": 45,
     "metadata": {},
     "output_type": "execute_result"
    },
    {
     "data": {
      "text/plain": [
       "[1, 3, 2]"
      ]
     },
     "execution_count": 45,
     "metadata": {},
     "output_type": "execute_result"
    }
   ],
   "source": [
    "a = [1,2,3]\n",
    "a[1:] + [1]\n",
    "a\n",
    "shift(a, 2)"
   ]
  },
  {
   "cell_type": "code",
   "execution_count": 48,
   "metadata": {},
   "outputs": [
    {
     "data": {
      "text/plain": [
       "[1, 2, 0]"
      ]
     },
     "execution_count": 48,
     "metadata": {},
     "output_type": "execute_result"
    },
    {
     "data": {
      "text/plain": [
       "[1, 0, 2]"
      ]
     },
     "execution_count": 48,
     "metadata": {},
     "output_type": "execute_result"
    },
    {
     "data": {
      "text/plain": [
       "['Jeju', 'Pangyo', 'Seoul']"
      ]
     },
     "execution_count": 48,
     "metadata": {},
     "output_type": "execute_result"
    },
    {
     "data": {
      "text/plain": [
       "0"
      ]
     },
     "execution_count": 48,
     "metadata": {},
     "output_type": "execute_result"
    }
   ],
   "source": [
    "shift(seqidx, 0)\n",
    "shift(seqidx, 2)\n",
    "arr\n",
    "arr.index('Jeju')"
   ]
  },
  {
   "cell_type": "code",
   "execution_count": 56,
   "metadata": {},
   "outputs": [
    {
     "data": {
      "text/plain": [
       "7"
      ]
     },
     "execution_count": 56,
     "metadata": {},
     "output_type": "execute_result"
    }
   ],
   "source": [
    "cities[n:]"
   ]
  },
  {
   "cell_type": "code",
   "execution_count": 66,
   "metadata": {},
   "outputs": [
    {
     "data": {
      "text/plain": [
       "['jeju',\n",
       " 'pangyo',\n",
       " 'seoul',\n",
       " 'newyork',\n",
       " 'la',\n",
       " 'jeju',\n",
       " 'pangyo',\n",
       " 'seoul',\n",
       " 'newyork',\n",
       " 'la']"
      ]
     },
     "execution_count": 66,
     "metadata": {},
     "output_type": "execute_result"
    }
   ],
   "source": [
    "cities = [\"Jeju\", \"Pangyo\", \"Seoul\", \"NewYork\", \"LA\", \"Jeju\", \"Pangyo\", \"Seoul\", \"NewYork\", \"LA\"]\n",
    "cities = [ i.lower() for i in cities]\n",
    "cities"
   ]
  },
  {
   "cell_type": "markdown",
   "metadata": {},
   "source": [
    "------------------------------"
   ]
  },
  {
   "cell_type": "code",
   "execution_count": 72,
   "metadata": {},
   "outputs": [
    {
     "data": {
      "text/plain": [
       "['jeju', 'pangyo', 'seoul']"
      ]
     },
     "execution_count": 72,
     "metadata": {},
     "output_type": "execute_result"
    },
    {
     "data": {
      "text/plain": [
       "15"
      ]
     },
     "execution_count": 72,
     "metadata": {},
     "output_type": "execute_result"
    },
    {
     "data": {
      "text/plain": [
       "[0, 1, 2]"
      ]
     },
     "execution_count": 72,
     "metadata": {},
     "output_type": "execute_result"
    }
   ],
   "source": [
    "n = 3\n",
    "cities = [\"Jeju\", \"Pangyo\", \"Seoul\", \"NewYork\", \"LA\", \"Jeju\", \"Pangyo\", \"Seoul\", \"NewYork\", \"LA\"]\n",
    "cities = [ i.lower() for i in cities]\n",
    "\n",
    "extime = 5*n\n",
    "\n",
    "if n==0: \n",
    "    extime = 5*len(cities)\n",
    "    #return answer\n",
    "\n",
    "arr = [cities[i] for i in range(3)]\n",
    "seqidx = list(range(n))\n",
    "\n",
    "arr\n",
    "extime\n",
    "seqidx"
   ]
  },
  {
   "cell_type": "code",
   "execution_count": null,
   "metadata": {
    "collapsed": true
   },
   "outputs": [],
   "source": [
    "len(cities) "
   ]
  },
  {
   "cell_type": "code",
   "execution_count": 73,
   "metadata": {
    "scrolled": true
   },
   "outputs": [
    {
     "name": "stdout",
     "output_type": "stream",
     "text": [
      "not newyork\n",
      "[1, 2, 0]\n",
      "['newyork', 'pangyo', 'seoul']\n",
      "not la\n",
      "[2, 0, 1]\n",
      "['newyork', 'la', 'seoul']\n",
      "not jeju\n",
      "[0, 1, 2]\n",
      "['newyork', 'la', 'jeju']\n",
      "not pangyo\n",
      "[1, 2, 0]\n",
      "['pangyo', 'la', 'jeju']\n",
      "not seoul\n",
      "[2, 0, 1]\n",
      "['pangyo', 'seoul', 'jeju']\n",
      "not newyork\n",
      "[0, 1, 2]\n",
      "['pangyo', 'seoul', 'newyork']\n",
      "not la\n",
      "[1, 2, 0]\n",
      "['la', 'seoul', 'newyork']\n"
     ]
    },
    {
     "data": {
      "text/plain": [
       "50"
      ]
     },
     "execution_count": 73,
     "metadata": {},
     "output_type": "execute_result"
    }
   ],
   "source": [
    "def shift(l, innum):\n",
    "    del l[l.index(innum)]\n",
    "    l.append(innum)\n",
    "    return l\n",
    "\n",
    "\n",
    "for i in cities[n:]:\n",
    "    if i in arr:\n",
    "        print('in '+i)\n",
    "        seqidx = shift(seqidx, arr.index(i))\n",
    "        print(seqidx)\n",
    "        extime += 1\n",
    "    else:\n",
    "        print('not '+i)\n",
    "        arr[seqidx[0]] = i\n",
    "        seqidx = shift(seqidx, seqidx[0])\n",
    "        print(seqidx)\n",
    "        print(arr)\n",
    "        extime += 5\n",
    "        \n",
    "extime"
   ]
  },
  {
   "cell_type": "code",
   "execution_count": 107,
   "metadata": {},
   "outputs": [],
   "source": [
    "def shift(l, innum, delT=True):\n",
    "    if delT:\n",
    "        del l[l.index(innum)]\n",
    "    l.append(innum)\n",
    "    return l\n",
    "\n",
    "def solution(cacheSize, cities):\n",
    "    cities = [ i.lower() for i in cities]\n",
    "#     answer = 5*cacheSize\n",
    "    answer = 0\n",
    "    \n",
    "    if cacheSize==0: \n",
    "        answer = 5*len(cities)\n",
    "        return answer\n",
    "        \n",
    "#     arr = [cities[i] for i in range(cacheSize)]\n",
    "    arr = []\n",
    "    seqidx = []\n",
    "    \n",
    "    for i in cities:\n",
    "        delT = True\n",
    "        print(i)\n",
    "        print(seqidx)\n",
    "        if len(seqidx) < cacheSize:\n",
    "                delT = False\n",
    "                \n",
    "        if i in arr:\n",
    "            seqidx = shift(seqidx, arr.index(i))\n",
    "            answer += 1\n",
    "        else:\n",
    "            if len(arr) == cacheSize: \n",
    "                arr[seqidx[0]] = i\n",
    "            else:\n",
    "                arr.append(i)\n",
    "            if len(seqidx) < cacheSize:\n",
    "                seqidx = shift(seqidx, len(seqidx), delT)\n",
    "            else:\n",
    "                seqidx = shift(seqidx, seqidx[0], delT)\n",
    "            answer += 5\n",
    "        print(answer)\n",
    "    return answer"
   ]
  },
  {
   "cell_type": "code",
   "execution_count": 109,
   "metadata": {},
   "outputs": [
    {
     "name": "stdout",
     "output_type": "stream",
     "text": [
      "jeju\n",
      "[]\n",
      "5\n",
      "pangyo\n",
      "[0]\n",
      "10\n",
      "newyork\n",
      "[0, 1]\n",
      "15\n",
      "newyork\n",
      "[1, 0]\n",
      "16\n"
     ]
    },
    {
     "data": {
      "text/plain": [
       "16"
      ]
     },
     "execution_count": 109,
     "metadata": {},
     "output_type": "execute_result"
    }
   ],
   "source": [
    "solution(2,[\"Jeju\", \"Pangyo\", \"NewYork\", \"newyork\"])"
   ]
  },
  {
   "cell_type": "code",
   "execution_count": null,
   "metadata": {
    "collapsed": true
   },
   "outputs": [],
   "source": []
  },
  {
   "cell_type": "code",
   "execution_count": null,
   "metadata": {
    "collapsed": true
   },
   "outputs": [],
   "source": []
  }
 ],
 "metadata": {
  "kernelspec": {
   "display_name": "Python 3",
   "language": "python",
   "name": "python3"
  },
  "language_info": {
   "codemirror_mode": {
    "name": "ipython",
    "version": 3
   },
   "file_extension": ".py",
   "mimetype": "text/x-python",
   "name": "python",
   "nbconvert_exporter": "python",
   "pygments_lexer": "ipython3",
   "version": "3.6.1"
  }
 },
 "nbformat": 4,
 "nbformat_minor": 2
}
