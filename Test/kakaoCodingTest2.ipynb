{
 "cells": [
  {
   "cell_type": "code",
   "execution_count": 1,
   "metadata": {
    "collapsed": true
   },
   "outputs": [],
   "source": [
    "from IPython.core.interactiveshell import InteractiveShell\n",
    "InteractiveShell.ast_node_interactivity = \"all\" "
   ]
  },
  {
   "cell_type": "code",
   "execution_count": 4,
   "metadata": {
    "collapsed": true
   },
   "outputs": [],
   "source": [
    "def isNumber(s):\n",
    "    try:\n",
    "        int(s)\n",
    "        return True\n",
    "    except ValueError:\n",
    "        return False"
   ]
  },
  {
   "cell_type": "code",
   "execution_count": 10,
   "metadata": {},
   "outputs": [
    {
     "data": {
      "text/plain": [
       "['1', 'D', '2', 'S', '#', '1', '0', 'S']"
      ]
     },
     "execution_count": 10,
     "metadata": {},
     "output_type": "execute_result"
    },
    {
     "name": "stdout",
     "output_type": "stream",
     "text": [
      "2\n"
     ]
    },
    {
     "data": {
      "text/plain": [
       "[1, 1, 0]"
      ]
     },
     "execution_count": 10,
     "metadata": {},
     "output_type": "execute_result"
    },
    {
     "data": {
      "text/plain": [
       "2"
      ]
     },
     "execution_count": 10,
     "metadata": {},
     "output_type": "execute_result"
    }
   ],
   "source": [
    "s = list('1D2S#10S')\n",
    "s\n",
    "answer = 0\n",
    "anList = []\n",
    "for i in range(len(s)):\n",
    "    tmp = s[i]\n",
    "    if tmp == 'S' or tmp == 'D' or tmp == 'T':\n",
    "        pass\n",
    "    elif isNumber(tmp) :\n",
    "        bon = s[i+1]\n",
    "        if bon == 'S':\n",
    "            anList.append(int(tmp))\n",
    "        elif bon == 'D':\n",
    "            anList.append(int(tmp)**2)\n",
    "        elif bon == 'T':\n",
    "            anList.append(int(tmp)**3)\n",
    "    else:\n",
    "        if tmp=='*':\n",
    "            anList = [i*2 for i in anList]\n",
    "        elif tmp=='#':\n",
    "            print(anList[-1])\n",
    "            anList[-1] = anList[-1]-1\n",
    "anList\n",
    "sum(anList)"
   ]
  },
  {
   "cell_type": "code",
   "execution_count": 6,
   "metadata": {},
   "outputs": [
    {
     "data": {
      "text/plain": [
       "[2, 4]"
      ]
     },
     "execution_count": 6,
     "metadata": {},
     "output_type": "execute_result"
    }
   ],
   "source": [
    "anList = [1,2]\n",
    "anList = [ i*2 for i in anList]\n",
    "anList"
   ]
  },
  {
   "cell_type": "code",
   "execution_count": 24,
   "metadata": {},
   "outputs": [
    {
     "data": {
      "text/plain": [
       "['1', 'D', '2', 'S', '#', '1', '0', 'S']"
      ]
     },
     "execution_count": 24,
     "metadata": {},
     "output_type": "execute_result"
    }
   ],
   "source": [
    "s = list('1D2S#10S')\n",
    "s"
   ]
  },
  {
   "cell_type": "code",
   "execution_count": 25,
   "metadata": {},
   "outputs": [
    {
     "name": "stdout",
     "output_type": "stream",
     "text": [
      "0 6\n"
     ]
    },
    {
     "data": {
      "text/plain": [
       "['1', 'D', '2', 'S', '#', '1', '0', 'S']"
      ]
     },
     "execution_count": 25,
     "metadata": {},
     "output_type": "execute_result"
    },
    {
     "data": {
      "text/plain": [
       "['1', 'D', '2', 'S', '#', '10', 'S']"
      ]
     },
     "execution_count": 25,
     "metadata": {},
     "output_type": "execute_result"
    }
   ],
   "source": [
    "st = []\n",
    "for i in range(len(s)):\n",
    "    if isNumber(s[i]):\n",
    "        if i!=0 and isNumber(s[i-1]):\n",
    "            print(s[i], i)\n",
    "            st[-1] = '10'\n",
    "        else:\n",
    "            st.append(s[i])  \n",
    "    else: \n",
    "        st.append(s[i])\n",
    "s\n",
    "st"
   ]
  },
  {
   "cell_type": "code",
   "execution_count": 39,
   "metadata": {
    "collapsed": true
   },
   "outputs": [],
   "source": [
    "def isNumber(s):\n",
    "    try:\n",
    "        int(s)\n",
    "        return True\n",
    "    except ValueError:\n",
    "        return False\n",
    "\n",
    "def solution(dartResult):\n",
    "    s = list(dartResult)\n",
    "    st = []\n",
    "    for i in range(len(s)):\n",
    "        if isNumber(s[i]):\n",
    "            if i!=0 and isNumber(s[i-1]):\n",
    "                print(s[i], i)\n",
    "                st[-1] = '10'\n",
    "            else:\n",
    "                st.append(s[i])  \n",
    "        else: \n",
    "            st.append(s[i])\n",
    "    print(st)\n",
    "    answer = 0\n",
    "    anList = []\n",
    "    for i in range(len(st)):\n",
    "        tmp = st[i]\n",
    "        if tmp == 'S' or tmp == 'D' or tmp == 'T':\n",
    "            pass\n",
    "        elif isNumber(tmp) :\n",
    "            bon = st[i+1]\n",
    "            if bon == 'S':\n",
    "                anList.append(int(tmp))\n",
    "            elif bon == 'D':\n",
    "                anList.append(int(tmp)**2)\n",
    "            elif bon == 'T':\n",
    "                anList.append(int(tmp)**3)\n",
    "        else:\n",
    "            if tmp=='*':\n",
    "                anList =anList[:-2]+[i*2 for i in anList[-2:]]\n",
    "            elif tmp=='#':\n",
    "                anList[-1] = anList[-1]*-1\n",
    "    answer = sum(anList)\n",
    "    print(anList)\n",
    "    return answer"
   ]
  },
  {
   "cell_type": "code",
   "execution_count": 40,
   "metadata": {},
   "outputs": [
    {
     "name": "stdout",
     "output_type": "stream",
     "text": [
      "['1', 'D', '2', 'S', '3', 'T', '*']\n",
      "[1, 4, 54]\n"
     ]
    },
    {
     "data": {
      "text/plain": [
       "59"
      ]
     },
     "execution_count": 40,
     "metadata": {},
     "output_type": "execute_result"
    }
   ],
   "source": [
    "solution('1D2S3T*')"
   ]
  },
  {
   "cell_type": "code",
   "execution_count": 38,
   "metadata": {},
   "outputs": [
    {
     "data": {
      "text/plain": [
       "['T', '*']"
      ]
     },
     "execution_count": 38,
     "metadata": {},
     "output_type": "execute_result"
    },
    {
     "data": {
      "text/plain": [
       "['1', 'D', '2', 'S', '3']"
      ]
     },
     "execution_count": 38,
     "metadata": {},
     "output_type": "execute_result"
    }
   ],
   "source": [
    "b = ['1', 'D', '2', 'S', '3', 'T', '*']\n",
    "b[-2:]\n",
    "b[:-2]"
   ]
  },
  {
   "cell_type": "code",
   "execution_count": null,
   "metadata": {
    "collapsed": true
   },
   "outputs": [],
   "source": []
  }
 ],
 "metadata": {
  "kernelspec": {
   "display_name": "Python 3",
   "language": "python",
   "name": "python3"
  },
  "language_info": {
   "codemirror_mode": {
    "name": "ipython",
    "version": 3
   },
   "file_extension": ".py",
   "mimetype": "text/x-python",
   "name": "python",
   "nbconvert_exporter": "python",
   "pygments_lexer": "ipython3",
   "version": "3.6.1"
  }
 },
 "nbformat": 4,
 "nbformat_minor": 2
}
