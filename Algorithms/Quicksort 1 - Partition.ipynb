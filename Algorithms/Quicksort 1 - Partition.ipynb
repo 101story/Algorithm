{
 "cells": [
  {
   "cell_type": "markdown",
   "metadata": {},
   "source": [
    "** Dashboard > Algorithms > Sorting > Quicksort 1 - Partition** \n",
    "\n",
    "The previous challenges covered Insertion Sort, which is a simple and intuitive sorting algorithm with an average case performance of O($n^{2}$). In these next few challenges, we're covering a divide-and-conquer algorithm called Quicksort (also known as Partition Sort).\n",
    "\n",
    "** Step 1: Divide **\n",
    "\n",
    "Choose some pivot element, P , and partition your unsorted array, ar , into three smaller arrays: left, rigth, and equal, where each element in left < P, each element in rigth > P, and each element in equal = p.\n",
    "\n",
    "** Challenge ** \n",
    "\n",
    "Given  ar and p=ar[0], partition ar into left, right , and equal using the Divide instructions above. Then print each element in left followed by each element in equal , followed by each element in right on a single line. Your output should be space-separated.\n",
    "\n",
    "Note: There is no need to sort the elements in-place; you can create two lists and stitch them together at the end.\n",
    "\n",
    "** Input Format ** \n",
    "\n",
    "The first line contains n (the size of ar). \n",
    "The second line contains n space-separated integers describing ar (the unsorted array). The first integer (corresponding to ar[0]) is your pivot element, p .\n",
    "\n",
    "** Constraints**\n",
    "\n",
    "- 1<= n <= 1000\n",
    "- -1000 <= x <= 1000\n",
    "- All elements will be unique.\n",
    "- Multiple answer can exists for the given test case. Print any one of them.\n",
    "\n",
    "** Output Format ** \n",
    "\n",
    "On a single line, print the partitioned numbers (i.e.: the elements in left, then the elements in equal, and then the elements in right). Each integer should be separated by a single space.\n",
    "\n",
    "\n",
    "** Sample Input **\n",
    "\n",
    "5<br>\n",
    "4 5 3 7 2\n",
    "\n",
    "** Sample Output **\n",
    "\n",
    "3 2 4 5 7\n"
   ]
  },
  {
   "cell_type": "code",
   "execution_count": 14,
   "metadata": {},
   "outputs": [
    {
     "name": "stdout",
     "output_type": "stream",
     "text": [
      "3 2 4 5 7 "
     ]
    }
   ],
   "source": [
    "# m = int(input().strip())\n",
    "# ar = [int(i) for i in input().strip().split()]\n",
    "\n",
    "ar = [4,5,3,7,2]\n",
    "\n",
    "left = []\n",
    "equal = []\n",
    "right = []\n",
    "\n",
    "pivot = ar[0]\n",
    "equal.append(pivot)\n",
    "for i in range(1, len(ar)):\n",
    "    if ar[i] < pivot:\n",
    "        left.append(ar[i])\n",
    "    elif ar[i] == pivot:\n",
    "        equal.append(ar[i])\n",
    "    elif pivot < ar[i]:\n",
    "        right.append(ar[i])\n",
    "\n",
    "for x in left:\n",
    "    print(x, end=' ')\n",
    "for x in equal:\n",
    "    print(x, end=' ')\n",
    "for x in right:\n",
    "    print(x, end=' ')"
   ]
  },
  {
   "cell_type": "code",
   "execution_count": 7,
   "metadata": {},
   "outputs": [
    {
     "data": {
      "text/plain": [
       "list"
      ]
     },
     "execution_count": 7,
     "metadata": {},
     "output_type": "execute_result"
    }
   ],
   "source": [
    "type(left)"
   ]
  }
 ],
 "metadata": {
  "kernelspec": {
   "display_name": "Python 3",
   "language": "python",
   "name": "python3"
  },
  "language_info": {
   "codemirror_mode": {
    "name": "ipython",
    "version": 3
   },
   "file_extension": ".py",
   "mimetype": "text/x-python",
   "name": "python",
   "nbconvert_exporter": "python",
   "pygments_lexer": "ipython3",
   "version": "3.6.1"
  }
 },
 "nbformat": 4,
 "nbformat_minor": 2
}
