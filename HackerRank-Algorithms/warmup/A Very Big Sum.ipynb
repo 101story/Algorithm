{
 "cells": [
  {
   "cell_type": "markdown",
   "metadata": {},
   "source": [
    "### Dashboard > Algorithms > Warmup > A Very Big Sum\n",
    "\n",
    "You are given an array of integers of N size . You need to print the sum of the elements in the array, keeping in mind that some of those integers may be quite large.\n",
    "\n",
    "**Input Format**\n",
    "\n",
    "The first line of the input consists of an integer N. The next line contains N space-separated integers contained in the array.\n",
    "\n",
    "**Output Format**\n",
    "\n",
    "Print a single value equal to the sum of the elements in the array.\n",
    "\n",
    "**Constraints**  <br>\n",
    " $ 1 <= N <= 10$ <br>\n",
    " $ 0<= A[i] <= 10^{10}$\n",
    " \n",
    "**Sample Input**\n",
    "\n",
    "5<br>\n",
    "1000000001 1000000002 1000000003 1000000004 1000000005\n",
    "\n",
    "**Output**\n",
    "\n",
    "5000000015\n",
    "\n",
    "**Note:**\n",
    "\n",
    "The range of the 32-bit integer is . <br>\n",
    "When we add several integer values, the resulting sum might exceed the above range. You might need to use long long int in C/C++ or long data type in Java to store such sums."
   ]
  },
  {
   "cell_type": "code",
   "execution_count": 3,
   "metadata": {
    "collapsed": true
   },
   "outputs": [],
   "source": [
    "def aVeryBigSum(n, ar):\n",
    "    return sum(ar)"
   ]
  },
  {
   "cell_type": "code",
   "execution_count": 4,
   "metadata": {},
   "outputs": [
    {
     "name": "stdout",
     "output_type": "stream",
     "text": [
      "5000000015\n"
     ]
    }
   ],
   "source": [
    "#import sys\n",
    "\n",
    "s = \"1000000001 1000000002 1000000003 1000000004 1000000005\"\n",
    "n = int(5)\n",
    "ar = list(map(int, s.strip().split(' ')))\n",
    "result = aVeryBigSum(n, ar)\n",
    "print(result)"
   ]
  }
 ],
 "metadata": {
  "kernelspec": {
   "display_name": "Python 3",
   "language": "python",
   "name": "python3"
  },
  "language_info": {
   "codemirror_mode": {
    "name": "ipython",
    "version": 3
   },
   "file_extension": ".py",
   "mimetype": "text/x-python",
   "name": "python",
   "nbconvert_exporter": "python",
   "pygments_lexer": "ipython3",
   "version": "3.6.1"
  }
 },
 "nbformat": 4,
 "nbformat_minor": 2
}
