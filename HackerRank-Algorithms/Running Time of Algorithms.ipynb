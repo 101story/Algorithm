{
 "cells": [
  {
   "cell_type": "markdown",
   "metadata": {},
   "source": [
    "** Challenge ** \n",
    "\n",
    "Can you modify your previous Insertion Sort implementation to keep track of the number of shifts it makes while sorting? The only thing you should print is the number of shifts made by the algorithm to completely sort the array. A shift occurs when an element's position changes in the array. Do not shift an element if it is not necessary.\n",
    "\n",
    "** Input Format ** \n",
    "\n",
    "The first line contains N, the number of elements to be sorted. The next line contains N integers a[1],a[2], ...,a[N] .\n",
    "\n",
    "** Output Format ** \n",
    "\n",
    "Output the number of shifts it takes to sort the array.\n",
    "\n",
    "** Constraints **\n",
    "1<= N <= 1001 <br>\n",
    "-1000 <= x <= 10000\n",
    " \n",
    "**Sample Input**\n",
    "\n",
    "5<br>\n",
    "2 1 3 1 2\n",
    "\n",
    "**Sample Output**\n",
    "\n",
    "4\n",
    "\n",
    "**Explanation**\n",
    "\n",
    "The first 1 is shifted once. The 3 stays where it is. The next 1 gets shifted twice. The final 2 gets shifted once. Hence, the total number of shifts is 4.\n",
    "\n",
    "**Task **\n",
    "\n",
    "For this problem, you can copy your code from the InsertionSort problem, and modify it to keep track of the number of shifts instead of printing the array."
   ]
  },
  {
   "cell_type": "code",
   "execution_count": 59,
   "metadata": {},
   "outputs": [
    {
     "name": "stdout",
     "output_type": "stream",
     "text": [
      "for i[ 1 ] 1 | j[ 1 ] 1  |  1\n",
      "     while l[ 1 ] 2 | l[ 0 ] 2  |  1\n",
      "for i[ 2 ] 3 | j[ 2 ] 3  |  3\n",
      "for i[ 3 ] 1 | j[ 3 ] 1  |  1\n",
      "     while l[ 3 ] 3 | l[ 2 ] 3  |  1\n",
      "     while l[ 3 ] 3 | l[ 1 ] 2  |  1\n",
      "for i[ 4 ] 2 | j[ 4 ] 2  |  2\n",
      "     while l[ 4 ] 3 | l[ 3 ] 3  |  2\n",
      "4\n"
     ]
    },
    {
     "data": {
      "text/plain": [
       "[1, 1, 2, 2, 3]"
      ]
     },
     "execution_count": 59,
     "metadata": {},
     "output_type": "execute_result"
    }
   ],
   "source": [
    "def insertion_sort(l):\n",
    "    shift = 0\n",
    "    for i in range(1, len(l)):\n",
    "        j = i\n",
    "        key = l[i]\n",
    "        print(\"for i[\",i,\"]\",l[i], \"| j[\",j,\"]\",l[j],\" | \", key)\n",
    "        while (j > 0) and (l[j-1] > key):\n",
    "            l[j] = l[j-1]\n",
    "            j -= 1\n",
    "            shift += 1\n",
    "            print(\"     while l[\",i,\"]\",l[i], \"| l[\",j,\"]\",l[j],\" | \", key)\n",
    "        l[j] = key\n",
    "    print(shift)\n",
    "            \n",
    "#ar = [1, 1, 2, 2, 3, 3, 5, 5, 7, 7, 9, 9]\n",
    "ar = [2, 1, 3, 1, 2]\n",
    "insertion_sort(ar)\n",
    "ar"
   ]
  },
  {
   "cell_type": "code",
   "execution_count": 57,
   "metadata": {},
   "outputs": [
    {
     "name": "stdout",
     "output_type": "stream",
     "text": [
      "for l[ 0 ] 1 | l[ 11 ] 9  |  1\n",
      "     while l[ 0 ] 1 | l[ 10 ] 9  |  1\n",
      "     while l[ 0 ] 1 | l[ 9 ] 7  |  1\n",
      "     while l[ 0 ] 1 | l[ 8 ] 7  |  1\n",
      "     while l[ 0 ] 1 | l[ 7 ] 5  |  1\n",
      "     while l[ 0 ] 1 | l[ 6 ] 5  |  1\n",
      "     while l[ 0 ] 1 | l[ 5 ] 3  |  1\n",
      "     while l[ 0 ] 1 | l[ 4 ] 3  |  1\n",
      "     while l[ 0 ] 1 | l[ 3 ] 2  |  1\n",
      "     while l[ 0 ] 1 | l[ 2 ] 2  |  1\n",
      "     while l[ 0 ] 1 | l[ 1 ] 1  |  1\n",
      "     while l[ 0 ] 1 | l[ 0 ] 1  |  1\n",
      "shift\n",
      "[1, 1, 2, 2, 3, 3, 5, 5, 7, 7, 9, 9]\n",
      "-----------\n",
      "for l[ 1 ] 1 | l[ 11 ] 9  |  1\n",
      "     while l[ 1 ] 1 | l[ 10 ] 9  |  1\n",
      "     while l[ 1 ] 1 | l[ 9 ] 7  |  1\n",
      "     while l[ 1 ] 1 | l[ 8 ] 7  |  1\n",
      "     while l[ 1 ] 1 | l[ 7 ] 5  |  1\n",
      "     while l[ 1 ] 1 | l[ 6 ] 5  |  1\n",
      "     while l[ 1 ] 1 | l[ 5 ] 3  |  1\n",
      "     while l[ 1 ] 1 | l[ 4 ] 3  |  1\n",
      "     while l[ 1 ] 1 | l[ 3 ] 2  |  1\n",
      "     while l[ 1 ] 1 | l[ 2 ] 2  |  1\n",
      "     while l[ 1 ] 1 | l[ 1 ] 1  |  1\n",
      "shift\n",
      "[1, 1, 2, 2, 3, 3, 5, 5, 7, 7, 9, 9]\n",
      "-----------\n",
      "for l[ 2 ] 2 | l[ 11 ] 9  |  2\n",
      "     while l[ 2 ] 2 | l[ 10 ] 9  |  2\n",
      "     while l[ 2 ] 2 | l[ 9 ] 7  |  2\n",
      "     while l[ 2 ] 2 | l[ 8 ] 7  |  2\n",
      "     while l[ 2 ] 2 | l[ 7 ] 5  |  2\n",
      "     while l[ 2 ] 2 | l[ 6 ] 5  |  2\n",
      "     while l[ 2 ] 2 | l[ 5 ] 3  |  2\n",
      "     while l[ 2 ] 2 | l[ 4 ] 3  |  2\n",
      "     while l[ 2 ] 2 | l[ 3 ] 2  |  2\n",
      "     while l[ 2 ] 2 | l[ 2 ] 2  |  2\n",
      "shift\n",
      "[1, 1, 2, 2, 3, 3, 5, 5, 7, 7, 9, 9]\n",
      "-----------\n",
      "for l[ 3 ] 2 | l[ 11 ] 9  |  2\n",
      "     while l[ 3 ] 2 | l[ 10 ] 9  |  2\n",
      "     while l[ 3 ] 2 | l[ 9 ] 7  |  2\n",
      "     while l[ 3 ] 2 | l[ 8 ] 7  |  2\n",
      "     while l[ 3 ] 2 | l[ 7 ] 5  |  2\n",
      "     while l[ 3 ] 2 | l[ 6 ] 5  |  2\n",
      "     while l[ 3 ] 2 | l[ 5 ] 3  |  2\n",
      "     while l[ 3 ] 2 | l[ 4 ] 3  |  2\n",
      "     while l[ 3 ] 2 | l[ 3 ] 2  |  2\n",
      "shift\n",
      "[1, 1, 2, 2, 3, 3, 5, 5, 7, 7, 9, 9]\n",
      "-----------\n",
      "for l[ 4 ] 3 | l[ 11 ] 9  |  3\n",
      "     while l[ 4 ] 3 | l[ 10 ] 9  |  3\n",
      "     while l[ 4 ] 3 | l[ 9 ] 7  |  3\n",
      "     while l[ 4 ] 3 | l[ 8 ] 7  |  3\n",
      "     while l[ 4 ] 3 | l[ 7 ] 5  |  3\n",
      "     while l[ 4 ] 3 | l[ 6 ] 5  |  3\n",
      "     while l[ 4 ] 3 | l[ 5 ] 3  |  3\n",
      "     while l[ 4 ] 3 | l[ 4 ] 3  |  3\n",
      "shift\n",
      "[1, 1, 2, 2, 3, 3, 5, 5, 7, 7, 9, 9]\n",
      "-----------\n",
      "for l[ 5 ] 3 | l[ 11 ] 9  |  3\n",
      "     while l[ 5 ] 3 | l[ 10 ] 9  |  3\n",
      "     while l[ 5 ] 3 | l[ 9 ] 7  |  3\n",
      "     while l[ 5 ] 3 | l[ 8 ] 7  |  3\n",
      "     while l[ 5 ] 3 | l[ 7 ] 5  |  3\n",
      "     while l[ 5 ] 3 | l[ 6 ] 5  |  3\n",
      "     while l[ 5 ] 3 | l[ 5 ] 3  |  3\n",
      "shift\n",
      "[1, 1, 2, 2, 3, 3, 5, 5, 7, 7, 9, 9]\n",
      "-----------\n",
      "for l[ 6 ] 5 | l[ 11 ] 9  |  5\n",
      "     while l[ 6 ] 5 | l[ 10 ] 9  |  5\n",
      "     while l[ 6 ] 5 | l[ 9 ] 7  |  5\n",
      "     while l[ 6 ] 5 | l[ 8 ] 7  |  5\n",
      "     while l[ 6 ] 5 | l[ 7 ] 5  |  5\n",
      "     while l[ 6 ] 5 | l[ 6 ] 5  |  5\n",
      "shift\n",
      "[1, 1, 2, 2, 3, 3, 5, 5, 7, 7, 9, 9]\n",
      "-----------\n",
      "for l[ 7 ] 5 | l[ 11 ] 9  |  5\n",
      "     while l[ 7 ] 5 | l[ 10 ] 9  |  5\n",
      "     while l[ 7 ] 5 | l[ 9 ] 7  |  5\n",
      "     while l[ 7 ] 5 | l[ 8 ] 7  |  5\n",
      "     while l[ 7 ] 5 | l[ 7 ] 5  |  5\n",
      "shift\n",
      "[1, 1, 2, 2, 3, 3, 5, 5, 7, 7, 9, 9]\n",
      "-----------\n",
      "for l[ 8 ] 7 | l[ 11 ] 9  |  7\n",
      "     while l[ 8 ] 7 | l[ 10 ] 9  |  7\n",
      "     while l[ 8 ] 7 | l[ 9 ] 7  |  7\n",
      "     while l[ 8 ] 7 | l[ 8 ] 7  |  7\n",
      "shift\n",
      "[1, 1, 2, 2, 3, 3, 5, 5, 7, 7, 9, 9]\n",
      "-----------\n",
      "for l[ 9 ] 7 | l[ 11 ] 9  |  7\n",
      "     while l[ 9 ] 7 | l[ 10 ] 9  |  7\n",
      "     while l[ 9 ] 7 | l[ 9 ] 7  |  7\n",
      "shift\n",
      "[1, 1, 2, 2, 3, 3, 5, 5, 7, 7, 9, 9]\n",
      "-----------\n",
      "for l[ 10 ] 9 | l[ 11 ] 9  |  9\n",
      "     while l[ 10 ] 9 | l[ 10 ] 9  |  9\n",
      "shift\n",
      "[1, 1, 2, 2, 3, 3, 5, 5, 7, 7, 9, 9]\n",
      "-----------\n",
      "0\n"
     ]
    },
    {
     "data": {
      "text/plain": [
       "True"
      ]
     },
     "execution_count": 57,
     "metadata": {},
     "output_type": "execute_result"
    }
   ],
   "source": [
    "def insertion_sort(l):\n",
    "    shifts  = 0 \n",
    "    origin = l.copy()\n",
    "    for i in range(len(l)-1):\n",
    "        j = len(l)-1\n",
    "        key = l[i]\n",
    "        print(\"for l[\",i,\"]\",l[i], \"| l[\",j,\"]\",l[j],\" | \", key)\n",
    "        while (j > i) and (l[j] >= key):\n",
    "            j -= 1\n",
    "            print(\"     while l[\",i,\"]\",l[i], \"| l[\",j,\"]\",l[j],\" | \", key)\n",
    "        \n",
    "        if (j >= i) and (l[j] <= key) :\n",
    "            l[i]=l[j]\n",
    "            l[j]=key\n",
    "            shifts += 1\n",
    "            print('shift')\n",
    "        print(l)\n",
    "        print(\"-----------\")\n",
    "    if origin == l : shifts = 0\n",
    "    print(shifts)\n",
    "    \n",
    "# m = int(input().strip())\n",
    "# ar = [int(i) for i in input().strip().split()]\n",
    "ar = [1, 1, 2, 2, 3, 3, 5, 5, 7, 7, 9, 9]\n",
    "#ar = [2, 1, 3, 1, 2]\n",
    "t = ar.copy()\n",
    "insertion_sort(ar)\n",
    "ar == t"
   ]
  },
  {
   "cell_type": "code",
   "execution_count": 37,
   "metadata": {},
   "outputs": [
    {
     "name": "stdout",
     "output_type": "stream",
     "text": [
      "1 3\n"
     ]
    },
    {
     "data": {
      "text/plain": [
       "[1, 1, 2, 2, 3, 3, 5, 5, 7, 7, 9, 9]"
      ]
     },
     "execution_count": 37,
     "metadata": {},
     "output_type": "execute_result"
    }
   ],
   "source": [
    "b = 1\n",
    "d = 3\n",
    "c, a = b, d\n",
    "print(b, d)\n",
    "a, c\n",
    "ar = [1, 1, 2, 2, 3, 3, 5, 5, 7, 7, 9, 9]\n",
    "ar[0:]"
   ]
  }
 ],
 "metadata": {
  "kernelspec": {
   "display_name": "Python 3",
   "language": "python",
   "name": "python3"
  },
  "language_info": {
   "codemirror_mode": {
    "name": "ipython",
    "version": 3
   },
   "file_extension": ".py",
   "mimetype": "text/x-python",
   "name": "python",
   "nbconvert_exporter": "python",
   "pygments_lexer": "ipython3",
   "version": "3.6.1"
  }
 },
 "nbformat": 4,
 "nbformat_minor": 2
}
