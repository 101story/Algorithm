{
 "cells": [
  {
   "cell_type": "markdown",
   "metadata": {},
   "source": [
    "URL : https://www.inflearn.com/course/%EC%BD%94%EB%94%A9-%EC%9D%B8%ED%84%B0%EB%B7%B0/?subscribe\n"
   ]
  },
  {
   "cell_type": "markdown",
   "metadata": {},
   "source": [
    "[순서]\n",
    "\n",
    "* Bubble sort\n",
    "* Selection sort\n",
    "* Insertion sort\n",
    "* Merge sort\n",
    "* Quick sort\n",
    "* Heap sort\n",
    "* Priority queue\n",
    "* Binary Search Tree\n",
    "* DFS (Depth First Search)\n",
    "* BFS (Breadth First Search)\n",
    "* Dijkstra algorithm\n",
    "* Permutation"
   ]
  },
  {
   "cell_type": "markdown",
   "metadata": {},
   "source": [
    "# Bubble sort\n",
    "\n",
    "* performance : O(n^2)\n",
    "* space complexity : O(1)\n",
    "\n",
    "* 방법 : 앞에서 부터 두개씩 비교해서 옆에 있는 작은 값이랑 바꿈 "
   ]
  },
  {
   "cell_type": "code",
   "execution_count": 39,
   "metadata": {
    "collapsed": true
   },
   "outputs": [],
   "source": [
    "import unittest\n",
    "import __main__\n",
    "\n",
    "def bubblesort(alist):\n",
    "    for i in range(len(alist)-1):\n",
    "        for j in range(len(alist)-1):\n",
    "            if alist[j] > alist[j+1]:\n",
    "                \n",
    "                alist[j], alist[j+1] = alist[j+1], alist[j]\n",
    "            print(alist)\n",
    "    return alist\n"
   ]
  },
  {
   "cell_type": "code",
   "execution_count": 42,
   "metadata": {
    "collapsed": true
   },
   "outputs": [],
   "source": [
    "class test_unit(unittest.TestCase):\n",
    "    def test(self):\n",
    "        self.assertEqual(bubblesort([4, 6, 1, 3, 5, 2]), [1, 2, 3, 4, 5, 6])\n",
    "        print('--------------')\n",
    "        self.assertEqual(bubblesort([6, 4, 3, 1, 2, 5]), [1, 2, 3, 4, 5, 6])\n",
    "        print('--------------')\n",
    "        self.assertEqual(bubblesort([6, 5, 4, 3, 2, 1]), [1, 2, 3, 4, 5, 6])"
   ]
  },
  {
   "cell_type": "code",
   "execution_count": 43,
   "metadata": {
    "collapsed": true
   },
   "outputs": [
    {
     "name": "stdout",
     "output_type": "stream",
     "text": [
      "[4, 6, 1, 3, 5, 2]\n",
      "[4, 1, 6, 3, 5, 2]\n",
      "[4, 1, 3, 6, 5, 2]\n",
      "[4, 1, 3, 5, 6, 2]\n",
      "[4, 1, 3, 5, 2, 6]\n",
      "[1, 4, 3, 5, 2, 6]\n",
      "[1, 3, 4, 5, 2, 6]\n",
      "[1, 3, 4, 5, 2, 6]\n",
      "[1, 3, 4, 2, 5, 6]\n",
      "[1, 3, 4, 2, 5, 6]\n",
      "[1, 3, 4, 2, 5, 6]\n",
      "[1, 3, 4, 2, 5, 6]\n",
      "[1, 3, 2, 4, 5, 6]\n",
      "[1, 3, 2, 4, 5, 6]\n",
      "[1, 3, 2, 4, 5, 6]\n",
      "[1, 3, 2, 4, 5, 6]\n",
      "[1, 2, 3, 4, 5, 6]\n",
      "[1, 2, 3, 4, 5, 6]\n",
      "[1, 2, 3, 4, 5, 6]\n",
      "[1, 2, 3, 4, 5, 6]\n",
      "[1, 2, 3, 4, 5, 6]\n",
      "[1, 2, 3, 4, 5, 6]\n",
      "[1, 2, 3, 4, 5, 6]\n",
      "[1, 2, 3, 4, 5, 6]\n",
      "[1, 2, 3, 4, 5, 6]\n",
      "--------------\n",
      "[4, 6, 3, 1, 2, 5]\n",
      "[4, 3, 6, 1, 2, 5]\n",
      "[4, 3, 1, 6, 2, 5]\n",
      "[4, 3, 1, 2, 6, 5]\n",
      "[4, 3, 1, 2, 5, 6]\n",
      "[3, 4, 1, 2, 5, 6]\n",
      "[3, 1, 4, 2, 5, 6]\n",
      "[3, 1, 2, 4, 5, 6]\n",
      "[3, 1, 2, 4, 5, 6]\n",
      "[3, 1, 2, 4, 5, 6]\n",
      "[1, 3, 2, 4, 5, 6]\n",
      "[1, 2, 3, 4, 5, 6]\n",
      "[1, 2, 3, 4, 5, 6]\n",
      "[1, 2, 3, 4, 5, 6]\n",
      "[1, 2, 3, 4, 5, 6]\n",
      "[1, 2, 3, 4, 5, 6]\n",
      "[1, 2, 3, 4, 5, 6]\n",
      "[1, 2, 3, 4, 5, 6]\n",
      "[1, 2, 3, 4, 5, 6]\n",
      "[1, 2, 3, 4, 5, 6]\n",
      "[1, 2, 3, 4, 5, 6]\n",
      "[1, 2, 3, 4, 5, 6]\n",
      "[1, 2, 3, 4, 5, 6]\n",
      "[1, 2, 3, 4, 5, 6]\n",
      "[1, 2, 3, 4, 5, 6]\n",
      "--------------\n",
      "[5, 6, 4, 3, 2, 1]\n",
      "[5, 4, 6, 3, 2, 1]\n",
      "[5, 4, 3, 6, 2, 1]\n",
      "[5, 4, 3, 2, 6, 1]\n",
      "[5, 4, 3, 2, 1, 6]\n",
      "[4, 5, 3, 2, 1, 6]\n",
      "[4, 3, 5, 2, 1, 6]\n",
      "[4, 3, 2, 5, 1, 6]\n",
      "[4, 3, 2, 1, 5, 6]\n",
      "[4, 3, 2, 1, 5, 6]\n",
      "[3, 4, 2, 1, 5, 6]\n",
      "[3, 2, 4, 1, 5, 6]\n",
      "[3, 2, 1, 4, 5, 6]\n",
      "[3, 2, 1, 4, 5, 6]\n",
      "[3, 2, 1, 4, 5, 6]\n",
      "[2, 3, 1, 4, 5, 6]\n",
      "[2, 1, 3, 4, 5, 6]\n",
      "[2, 1, 3, 4, 5, 6]\n",
      "[2, 1, 3, 4, 5, 6]\n",
      "[2, 1, 3, 4, 5, 6]\n",
      "[1, 2, 3, 4, 5, 6]\n",
      "[1, 2, 3, 4, 5, 6]\n",
      "[1, 2, 3, 4, 5, 6]\n",
      "[1, 2, 3, 4, 5, 6]\n",
      "[1, 2, 3, 4, 5, 6]\n"
     ]
    }
   ],
   "source": [
    "t = test_unit()\n",
    "t.test()"
   ]
  },
  {
   "cell_type": "markdown",
   "metadata": {},
   "source": [
    "# Selection \n",
    "\n",
    "* performance : O(n^2)\n",
    "\n",
    "* 방법 : 첫번쨰 값보다 더 작은 값을 찾아서 바꿈 그렇게 끝까지 확인함 "
   ]
  },
  {
   "cell_type": "code",
   "execution_count": 52,
   "metadata": {
    "collapsed": true
   },
   "outputs": [],
   "source": [
    "def selectionSort(input):\n",
    "    for i in range(len(input)-1):\n",
    "        idx_min = i\n",
    "        j = i + 1\n",
    "        \n",
    "        while j < len(input):\n",
    "            # found new minimum; remember its index\n",
    "            if(input[j]<input[idx_min]):\n",
    "                idx_min = j\n",
    "            j = j + 1\n",
    "            \n",
    "        if idx_min is not i:\n",
    "            # swap\n",
    "            input[idx_min], input[i] = input[i], input[idx_min]\n",
    "            \n",
    "        print(input)\n",
    "    return input"
   ]
  },
  {
   "cell_type": "code",
   "execution_count": 53,
   "metadata": {
    "scrolled": true
   },
   "outputs": [
    {
     "name": "stdout",
     "output_type": "stream",
     "text": [
      "[1, 6, 4, 3, 5, 2]\n",
      "[1, 2, 4, 3, 5, 6]\n",
      "[1, 2, 3, 4, 5, 6]\n",
      "[1, 2, 3, 4, 5, 6]\n",
      "[1, 2, 3, 4, 5, 6]\n",
      "--------------\n",
      "[1, 4, 3, 6, 2, 5]\n",
      "[1, 2, 3, 6, 4, 5]\n",
      "[1, 2, 3, 6, 4, 5]\n",
      "[1, 2, 3, 4, 6, 5]\n",
      "[1, 2, 3, 4, 5, 6]\n",
      "--------------\n",
      "[1, 5, 4, 3, 2, 6]\n",
      "[1, 2, 4, 3, 5, 6]\n",
      "[1, 2, 3, 4, 5, 6]\n",
      "[1, 2, 3, 4, 5, 6]\n",
      "[1, 2, 3, 4, 5, 6]\n"
     ]
    }
   ],
   "source": [
    "class test_unit(unittest.TestCase):\n",
    "    def test(self):\n",
    "        self.assertEqual(selectionSort([4, 6, 1, 3, 5, 2]), [1, 2, 3, 4, 5, 6])\n",
    "        print('--------------')\n",
    "        self.assertEqual(selectionSort([6, 4, 3, 1, 2, 5]), [1, 2, 3, 4, 5, 6])\n",
    "        print('--------------')\n",
    "        self.assertEqual(selectionSort([6, 5, 4, 3, 2, 1]), [1, 2, 3, 4, 5, 6])\n",
    "        \n",
    "t = test_unit()\n",
    "t.test()"
   ]
  },
  {
   "cell_type": "markdown",
   "metadata": {},
   "source": [
    "# Insertion \n",
    "\n",
    "* 방법 :  계속 정렬하면서 다음 아이템을 봄 "
   ]
  },
  {
   "cell_type": "code",
   "execution_count": 58,
   "metadata": {
    "collapsed": true
   },
   "outputs": [],
   "source": [
    "def insertion_sort(input):\n",
    "    for idx, valueToInsert in enumerate(input):\n",
    "        # select the hole position where number is to be inserted\n",
    "        holePosition = idx\n",
    "\n",
    "        # check if previous no. is larger than value to be inserted\n",
    "        while holePosition > 0 and input[holePosition-1] > valueToInsert :\n",
    "            input[holePosition - 1], input[holePosition] = input[holePosition], input[holePosition-1]\n",
    "            holePosition = holePosition - 1     \n",
    "        \n",
    "        print(input)\n",
    "    return input\n"
   ]
  },
  {
   "cell_type": "code",
   "execution_count": 59,
   "metadata": {},
   "outputs": [
    {
     "name": "stdout",
     "output_type": "stream",
     "text": [
      "[4, 6, 1, 3, 5, 2]\n",
      "[4, 6, 1, 3, 5, 2]\n",
      "[1, 4, 6, 3, 5, 2]\n",
      "[1, 3, 4, 6, 5, 2]\n",
      "[1, 3, 4, 5, 6, 2]\n",
      "[1, 2, 3, 4, 5, 6]\n",
      "--------------\n",
      "[6, 4, 3, 1, 2, 5]\n",
      "[4, 6, 3, 1, 2, 5]\n",
      "[3, 4, 6, 1, 2, 5]\n",
      "[1, 3, 4, 6, 2, 5]\n",
      "[1, 2, 3, 4, 6, 5]\n",
      "[1, 2, 3, 4, 5, 6]\n",
      "--------------\n",
      "[6, 5, 4, 3, 2, 1]\n",
      "[5, 6, 4, 3, 2, 1]\n",
      "[4, 5, 6, 3, 2, 1]\n",
      "[3, 4, 5, 6, 2, 1]\n",
      "[2, 3, 4, 5, 6, 1]\n",
      "[1, 2, 3, 4, 5, 6]\n"
     ]
    }
   ],
   "source": [
    "class test_unit(unittest.TestCase):\n",
    "    def test(self):\n",
    "        self.assertEqual(insertion_sort([4, 6, 1, 3, 5, 2]), [1, 2, 3, 4, 5, 6])\n",
    "        print('--------------')\n",
    "        self.assertEqual(insertion_sort([6, 4, 3, 1, 2, 5]), [1, 2, 3, 4, 5, 6])\n",
    "        print('--------------')\n",
    "        self.assertEqual(insertion_sort([6, 5, 4, 3, 2, 1]), [1, 2, 3, 4, 5, 6])\n",
    "        \n",
    "t = test_unit()\n",
    "t.test()"
   ]
  },
  {
   "cell_type": "markdown",
   "metadata": {},
   "source": [
    "# Merge \n",
    "\n",
    "* performance : O(nlogN)\n",
    "* space complexity : O(n)\n",
    "\n",
    "\n",
    "* 방법\n",
    "    1. 정렬되지 않은 리스트를 반씩 계속 쪼개서 하나가 남을때까지 쪼갬 \n",
    "    2. 2개씩 비교 해서 정렬 4개씩 비교해서 정렬 시킴"
   ]
  },
  {
   "cell_type": "code",
   "execution_count": 60,
   "metadata": {},
   "outputs": [
    {
     "name": "stdout",
     "output_type": "stream",
     "text": [
      "Splitting  [6, 2, 4, 1, 3, 7, 5, 8]\n",
      "Splitting  [6, 2, 4, 1]\n",
      "Splitting  [6, 2]\n",
      "Splitting  [6]\n",
      "Merging  [6]\n",
      "Splitting  [2]\n",
      "Merging  [2]\n",
      "Merging  [2, 6]\n",
      "Splitting  [4, 1]\n",
      "Splitting  [4]\n",
      "Merging  [4]\n",
      "Splitting  [1]\n",
      "Merging  [1]\n",
      "Merging  [1, 4]\n",
      "Merging  [1, 2, 4, 6]\n",
      "Splitting  [3, 7, 5, 8]\n",
      "Splitting  [3, 7]\n",
      "Splitting  [3]\n",
      "Merging  [3]\n",
      "Splitting  [7]\n",
      "Merging  [7]\n",
      "Merging  [3, 7]\n",
      "Splitting  [5, 8]\n",
      "Splitting  [5]\n",
      "Merging  [5]\n",
      "Splitting  [8]\n",
      "Merging  [8]\n",
      "Merging  [5, 8]\n",
      "Merging  [3, 5, 7, 8]\n",
      "Merging  [1, 2, 3, 4, 5, 6, 7, 8]\n",
      "[1, 2, 3, 4, 5, 6, 7, 8]\n"
     ]
    }
   ],
   "source": [
    "def mergeSort(alist):\n",
    "    print(\"Splitting \",alist)\n",
    "    if len(alist)>1:\n",
    "        mid = len(alist)//2\n",
    "        lefthalf = alist[:mid]\n",
    "        righthalf = alist[mid:]\n",
    "\n",
    "        mergeSort(lefthalf)\n",
    "        mergeSort(righthalf)\n",
    "\n",
    "        i=0\n",
    "        j=0\n",
    "        k=0\n",
    "        while i < len(lefthalf) and j < len(righthalf):\n",
    "            if lefthalf[i] < righthalf[j]:\n",
    "                alist[k]=lefthalf[i]\n",
    "                i=i+1\n",
    "            else:\n",
    "                alist[k]=righthalf[j]\n",
    "                j=j+1\n",
    "            k=k+1\n",
    "\n",
    "        while i < len(lefthalf):\n",
    "            alist[k]=lefthalf[i]\n",
    "            i=i+1\n",
    "            k=k+1\n",
    "\n",
    "        while j < len(righthalf):\n",
    "            alist[k]=righthalf[j]\n",
    "            j=j+1\n",
    "            k=k+1\n",
    "    print(\"Merging \",alist)\n",
    "\n",
    "alist = [6,2,4,1,3,7,5,8]\n",
    "mergeSort(alist)\n",
    "print(alist)"
   ]
  },
  {
   "cell_type": "markdown",
   "metadata": {},
   "source": [
    "# Quick\n",
    "\n",
    "* performance : O(n log n)\n",
    "* space complexity : O(n)\n",
    "\n",
    "\n",
    "* 방법 \n",
    "    1. 비벗을 정함\n",
    "    2. 비벗보다 작은 값은 왼쪽에 큰 값은 오른쪽에 정렬함 \n",
    "    3. 왼쪽의 아이템을 다시 quick sort 로 정렬함 \n",
    "    4. 오른쪽의 아이템을 다시 quick sort 로 정렬함 "
   ]
  },
  {
   "cell_type": "code",
   "execution_count": 73,
   "metadata": {
    "collapsed": true
   },
   "outputs": [],
   "source": [
    "def quick_sort(list, start, end):\n",
    "    # repeat until sublist has one item\n",
    "    # because the algorithm is using in-place space, we can not use len(list) instead we use start, end for sublist\n",
    "    if start < end:\n",
    "        # get pivot using partition method\n",
    "        pivot = partition(list, start, end)\n",
    "        # recurse quick sort left side from pivot\n",
    "        quick_sort(list, start, pivot-1)\n",
    "        # recurse quick sort right side from pivot\n",
    "        quick_sort(list,pivot+1, end)\n",
    "    return list\n",
    "\n",
    "def partition(list, start, end):\n",
    "    print(start, end,' : ',list)\n",
    "    # use end item as initial pivot\n",
    "    pivot = end\n",
    "    # use start as initial wall index\n",
    "    wall = start\n",
    "    left = start\n",
    "    # repeat until left item hit the end of list\n",
    "    while left < pivot:\n",
    "        # if left item is smaller than pivot, swap left item with wall and move wall to right\n",
    "        # this will ensure items smaller than pivot stay left side from the wall and\n",
    "        # the items greater than pivot stay right side from the wall\n",
    "        if list[left] < list[pivot]:\n",
    "            list[wall], list[left] = list[left], list[wall]\n",
    "            wall = wall + 1\n",
    "        left = left + 1\n",
    "    # when left hit the end of list, swap pivot with wall\n",
    "    list[wall], list[pivot] = list[pivot], list[wall]\n",
    "    # now left side of wall are the items smaller than wall\n",
    "    # now right side of pivot are the items greater than wall\n",
    "    # wall is the new pivot\n",
    "    pivot = wall\n",
    "    return pivot"
   ]
  },
  {
   "cell_type": "code",
   "execution_count": 74,
   "metadata": {},
   "outputs": [
    {
     "name": "stdout",
     "output_type": "stream",
     "text": [
      "0 5  :  [8, 13, 2, 6, 1, 4]\n",
      "0 1  :  [2, 1, 4, 6, 13, 8]\n",
      "3 5  :  [1, 2, 4, 6, 13, 8]\n",
      "0 7  :  [8, 1, 2, 5, 10, 14, 7, 21]\n",
      "0 6  :  [8, 1, 2, 5, 10, 14, 7, 21]\n",
      "0 2  :  [1, 2, 5, 7, 10, 14, 8, 21]\n",
      "0 1  :  [1, 2, 5, 7, 10, 14, 8, 21]\n",
      "4 6  :  [1, 2, 5, 7, 10, 14, 8, 21]\n",
      "5 6  :  [1, 2, 5, 7, 8, 14, 10, 21]\n"
     ]
    }
   ],
   "source": [
    "class unit_test(unittest.TestCase):\n",
    "    def test(self):\n",
    "        list = [8, 13, 2, 6, 1, 4]\n",
    "        self.assertEqual([1, 2, 4, 6, 8, 13], quick_sort(list,0,len(list)-1))\n",
    "        list = [8, 1, 2, 5, 10, 14, 7, 21]\n",
    "        self.assertEqual([1, 2, 5, 7, 8, 10, 14, 21], quick_sort(list, 0, len(list) - 1))\n",
    "\n",
    "t = unit_test()\n",
    "t.test()"
   ]
  },
  {
   "cell_type": "markdown",
   "metadata": {},
   "source": [
    "# Heap \n",
    "\n",
    "* performance : O(n log N)\n",
    "* space complexity : in-place algorithm\n",
    "\n",
    "\n",
    "* 방법 \n",
    "parent 가 child 노드보다 크게 Tree 를 만듬 \n"
   ]
  },
  {
   "cell_type": "code",
   "execution_count": 79,
   "metadata": {
    "collapsed": true
   },
   "outputs": [],
   "source": [
    "def heapsort(a):\n",
    "\n",
    "    def swap(a,i,j):\n",
    "        print('swap ', a ,':',i,j)\n",
    "        tmp = a[i]\n",
    "        a[i] = a[j]\n",
    "        a[j] = tmp\n",
    "        \n",
    "\n",
    "    # parent 가 자식이랑 비교에서 가장 큰값으로 swap 해줌\n",
    "    def siftdown(a, i, size):\n",
    "        l = 2*i+1\n",
    "        r = 2*i+2\n",
    "        largest = i\n",
    "        if l <= size-1 and a[l] > a[i]:\n",
    "            largest = l\n",
    "        if r <= size-1 and a[r] > a[largest]:\n",
    "            largest = r\n",
    "        if largest != i:\n",
    "            swap(a, i, largest)\n",
    "            siftdown(a, largest, size)\n",
    "\n",
    "    # 일반 트리를 heap 트리로 만듬 \n",
    "    def heapify(a, size):\n",
    "        p = (size//2)-1 # 자식이 있는 마지막 노드\n",
    "        while p>=0:\n",
    "            siftdown(a, p, size)\n",
    "            p -= 1\n",
    "\n",
    "    size = len(a)\n",
    "    heapify(a, size)\n",
    "    end = size-1\n",
    "    while(end > 0):\n",
    "        swap(a, 0, end)\n",
    "        siftdown(a, 0, end)\n",
    "        end -= 1\n"
   ]
  },
  {
   "cell_type": "code",
   "execution_count": 80,
   "metadata": {},
   "outputs": [
    {
     "name": "stdout",
     "output_type": "stream",
     "text": [
      "swap  [1, 3, 2, 4, 9, 7] : 2 5\n",
      "swap  [1, 3, 7, 4, 9, 2] : 1 4\n",
      "swap  [1, 9, 7, 4, 3, 2] : 0 1\n",
      "swap  [9, 1, 7, 4, 3, 2] : 1 3\n",
      "swap  [9, 4, 7, 1, 3, 2] : 0 5\n",
      "swap  [2, 4, 7, 1, 3, 9] : 0 2\n",
      "swap  [7, 4, 2, 1, 3, 9] : 0 4\n",
      "swap  [3, 4, 2, 1, 7, 9] : 0 1\n",
      "swap  [4, 3, 2, 1, 7, 9] : 0 3\n",
      "swap  [1, 3, 2, 4, 7, 9] : 0 1\n",
      "swap  [3, 1, 2, 4, 7, 9] : 0 2\n",
      "swap  [2, 1, 3, 4, 7, 9] : 0 1\n",
      "[1, 2, 3, 4, 7, 9]\n"
     ]
    }
   ],
   "source": [
    "arr = [1,3,2,4,9,7]\n",
    "heapsort(arr)\n",
    "print(arr)"
   ]
  },
  {
   "cell_type": "markdown",
   "metadata": {},
   "source": [
    "#  Priority queue\n",
    "\n",
    "* 최대 우선순위 큐\n",
    "* 최소 우선순위 큐\n",
    "\n",
    "\n",
    "* Insert \n",
    "    - complete binary tree 를 유지하며 마지막 노드에 추가하함\n",
    "    - max/min heap 을 유지하기 위해서 형제 노드 혹은 부모노드와 비교함\n",
    "\n",
    "\n",
    "* extract_max/min\n",
    "    - root 노드를 pop 한후 가장 마지막 노드를 root 로 올려 binary tree 형태를 유지함 \n",
    "    - max/min-heapify 두자식중의 더 큰 값과 root 를 바꾸고 다시 자식노드들 중 더 큰 값과 바꿈 "
   ]
  },
  {
   "cell_type": "markdown",
   "metadata": {},
   "source": [
    "# Binary Search Tree \n",
    "\n",
    "* performance : O(log n)\n",
    "\n",
    "\n",
    "* 방법 : 이진 트리를 만드는데 root 를 기준으로 큰 값은 작은 값은 왼쪽 큰 값은 오른쪽 노드에 둠 \n",
    "    \n",
    "    \n",
    "* preorder : 노드 방문 -> 왼쪽 서브 트리를 전위 순회 -> 오른쪽 서브 트리를 전위 순회함\n",
    "* inorder : 왼쪽 서브 트리를 중위 순회 -> 노드 방문 -> 오른쪽 서브 트리를 중위 순회\n",
    "* postorder : 왼쪽 서브 트리를 후위 순회 -> 오른쪽 서브 트리 후위 순회 -> 노드 방문 "
   ]
  },
  {
   "cell_type": "code",
   "execution_count": 82,
   "metadata": {
    "collapsed": true
   },
   "outputs": [],
   "source": [
    "# 노드 초기화 \n",
    "class Node:\n",
    "    def __init__(self, item):\n",
    "        self.val = item\n",
    "        self.left = None\n",
    "        self.right = None\n",
    "        \n",
    "        \n",
    "class BinaryTree:\n",
    "    def __init__(self):\n",
    "        self.head = Node(None)\n",
    "\n",
    "        #test purpose lists\n",
    "        self.preorder_list = []\n",
    "        self.inorder_list = []\n",
    "        self.postorder_list = []\n",
    "\n",
    "    ### 노드 만들기 \n",
    "    def add(self, item):\n",
    "        if self.head.val is None:\n",
    "            self.head.val = item\n",
    "        else:\n",
    "            self.__add_node(self.head, item)\n",
    "    \n",
    "    # 노드 만들기 (root)\n",
    "    def __add_node(self, cur, item):\n",
    "        if cur.val >= item:\n",
    "            if cur.left is not None:\n",
    "                self.__add_node(cur.left, item)\n",
    "            else:\n",
    "                cur.left = Node(item)\n",
    "        else:\n",
    "            if cur.right is not None:\n",
    "                self.__add_node(cur.right, item)\n",
    "            else:\n",
    "                cur.right = Node(item)      \n",
    "                \n",
    "                \n",
    "    ### 노드 찾기\n",
    "    def search(self, item):\n",
    "        if self.head.val is None:\n",
    "            return False\n",
    "        else:\n",
    "            return self.__search_node(self.head, item)\n",
    "\n",
    "    def __search_node(self, cur, item):\n",
    "        if cur.val == item:\n",
    "            return True\n",
    "        else:\n",
    "            if cur.val >= item:\n",
    "                if cur.left is not None:\n",
    "                    return self.__search_node(cur.left, item)\n",
    "                else:\n",
    "                    return False\n",
    "            else:\n",
    "                if cur.right is not None:\n",
    "                    return self.__search_node(cur.right, item)\n",
    "                else:\n",
    "                    return False\n",
    "\n",
    "\n",
    "    ### Preorder \n",
    "    def preorder_traverse(self):\n",
    "        if self.head is not None:\n",
    "            self.__preorder(self.head)\n",
    "\n",
    "    def __preorder(self, cur):\n",
    "        self.preorder_list.append(cur.val)\n",
    "        print (cur.val)\n",
    "        if cur.left is not None:\n",
    "            self.__preorder(cur.left)\n",
    "        if cur.right is not None:\n",
    "            self.__preorder(cur.right)\n",
    "\n",
    "            \n",
    "    ### Inorder \n",
    "    def inorder_traverse(self):\n",
    "        if self.head is not None:\n",
    "            self.__inorder(self.head)\n",
    "\n",
    "    def __inorder(self, cur):\n",
    "        if cur.left is not None:\n",
    "            self.__inorder(cur.left)\n",
    "\n",
    "        self.inorder_list.append(cur.val)\n",
    "        print (cur.val)\n",
    "\n",
    "        if cur.right is not None:\n",
    "            self.__inorder(cur.right)\n",
    "\n",
    "    ### Postorder\n",
    "    def postorder_traverse(self):\n",
    "        if self.head is not None:\n",
    "            self.__postorder(self.head)\n",
    "\n",
    "    def __postorder(self, cur):\n",
    "        if cur.left is not None:\n",
    "            self.__postorder(cur.left)\n",
    "\n",
    "        if cur.right is not None:\n",
    "            self.__postorder(cur.right)\n",
    "\n",
    "        self.postorder_list.append(cur.val)\n",
    "        print (cur.val)"
   ]
  },
  {
   "cell_type": "code",
   "execution_count": 84,
   "metadata": {
    "collapsed": true
   },
   "outputs": [],
   "source": [
    "class binary_tree_test(unittest.TestCase):\n",
    "    def test(self):\n",
    "        bt = BinaryTree()\n",
    "        bt.add(5)\n",
    "        bt.add(3)\n",
    "        bt.add(4)\n",
    "        bt.add(1)\n",
    "        bt.add(7)\n",
    "        print(\"pre order\")\n",
    "        bt.preorder_traverse()\n",
    "        self.assertEqual(bt.preorder_list, [5,3,1,4,7])\n",
    "\n",
    "        print(\"in order\")\n",
    "        bt.inorder_traverse()\n",
    "        self.assertEqual(bt.inorder_list, [1,3,4,5,7])\n",
    "\n",
    "        print(\"post order\")\n",
    "        bt.postorder_traverse()\n",
    "        self.assertEqual(bt.postorder_list, [1,4,3,7,5])"
   ]
  },
  {
   "cell_type": "code",
   "execution_count": 85,
   "metadata": {},
   "outputs": [
    {
     "name": "stdout",
     "output_type": "stream",
     "text": [
      "pre order\n",
      "5\n",
      "3\n",
      "1\n",
      "4\n",
      "7\n",
      "in order\n",
      "1\n",
      "3\n",
      "4\n",
      "5\n",
      "7\n",
      "post order\n",
      "1\n",
      "4\n",
      "3\n",
      "7\n",
      "5\n"
     ]
    }
   ],
   "source": [
    "t = binary_tree_test()\n",
    "t.test()"
   ]
  },
  {
   "cell_type": "markdown",
   "metadata": {},
   "source": [
    "# Graph\n",
    "\n",
    "* direct : vertex, 방향성이 있는 edge 가 존재 \n",
    "* undirect : vertex, 방향성이 없는 edge 가 존재 \n",
    "* weighted : edge 에 weight 가 존재 \n",
    "* vertex list\n",
    "* edge list (undirect) : 연결된 노드 나열 \n",
    "* adjacency lsit : 인접 리스트 \n",
    "* adjacency matrix : "
   ]
  },
  {
   "cell_type": "markdown",
   "metadata": {},
   "source": [
    "# DFS (Depth First Search)\n",
    "깊이 우선 탐색 \n",
    "\n",
    "1. stack , current, visited list 를 가지고 \n",
    "2. root stack에 넣고 pop 해서 current 에 넣음\n",
    "3. 다음 depth 의 노드들을 stack 에 넣음 \n",
    "4. pop 해서 가장 상단의 노드만 뺴서 current 에 넣고 상단 노드의 다음 depth 의 노드들을 다시 stack에 넣음 \n",
    "5. 모든 연결된 노드가 stack에 들어가면 current 노드 값을 visited list 에넣음\n",
    "6. 반복\n",
    "7. visited list 확인 "
   ]
  },
  {
   "cell_type": "markdown",
   "metadata": {},
   "source": [
    "# DFS (find cycle in undirect graph)\n",
    "그래프의 사이클 찾기\n",
    "\n",
    "기본적이 순서를 따르되 최종visited list 에 반복되는 값이 있는 경우 cycle 이 있다고 판단한다. "
   ]
  },
  {
   "attachments": {},
   "cell_type": "markdown",
   "metadata": {},
   "source": [
    "<img src=\"DFSTree.PNG\" width=\"50%\"/>"
   ]
  },
  {
   "cell_type": "code",
   "execution_count": null,
   "metadata": {
    "collapsed": true
   },
   "outputs": [],
   "source": [
    "vertexList = ['0', '1', '2', '3', '4', '5', '6']\n",
    "edgeList = [(0,1), (0,2), (1,0) , (1,3) , (2,0) , (2,4) , (2,5) , (3,1), (4,2) , (4,6), (5,2), (6,4)]\n",
    "graphs = (vertexList, edgeList)"
   ]
  },
  {
   "cell_type": "code",
   "execution_count": 29,
   "metadata": {},
   "outputs": [],
   "source": [
    "def dfs(graph, start):\n",
    "    vertexList, edgeList = graphs\n",
    "    visitedVertex = []\n",
    "    stack = [start]\n",
    "    adjacencyList = [ [] for vertex in vertexList]\n",
    "    \n",
    "    #인접노드 만들기\n",
    "    for edge in edgeList:\n",
    "        adjacencyList[edge[0]].append(edge[1])\n",
    "        print(edge[0], edge[1])\n",
    "        print(adjacencyList)\n",
    "\n",
    "    print('\\n --stack---', stack, )\n",
    "    while stack:\n",
    "        current = stack.pop()\n",
    "        print(adjacencyList[current])\n",
    "        # 주변 이웃 돌기\n",
    "        for neighbor in adjacencyList[current]: \n",
    "            #방문한 노드가 아니면 stack 에 넣기 \n",
    "            if not neighbor in visitedVertex:\n",
    "                stack.append(neighbor)\n",
    "        print(neighbor, stack)\n",
    "        visitedVertex.append(current)\n",
    "    return visitedVertex"
   ]
  },
  {
   "cell_type": "code",
   "execution_count": 30,
   "metadata": {},
   "outputs": [
    {
     "name": "stdout",
     "output_type": "stream",
     "text": [
      "0 1\n",
      "[[1], [], [], [], [], [], []]\n",
      "0 2\n",
      "[[1, 2], [], [], [], [], [], []]\n",
      "1 0\n",
      "[[1, 2], [0], [], [], [], [], []]\n",
      "1 3\n",
      "[[1, 2], [0, 3], [], [], [], [], []]\n",
      "2 0\n",
      "[[1, 2], [0, 3], [0], [], [], [], []]\n",
      "2 4\n",
      "[[1, 2], [0, 3], [0, 4], [], [], [], []]\n",
      "2 5\n",
      "[[1, 2], [0, 3], [0, 4, 5], [], [], [], []]\n",
      "3 1\n",
      "[[1, 2], [0, 3], [0, 4, 5], [1], [], [], []]\n",
      "4 2\n",
      "[[1, 2], [0, 3], [0, 4, 5], [1], [2], [], []]\n",
      "4 6\n",
      "[[1, 2], [0, 3], [0, 4, 5], [1], [2, 6], [], []]\n",
      "5 2\n",
      "[[1, 2], [0, 3], [0, 4, 5], [1], [2, 6], [2], []]\n",
      "6 4\n",
      "[[1, 2], [0, 3], [0, 4, 5], [1], [2, 6], [2], [4]]\n",
      "\n",
      " --stack--- [0]\n",
      "[1, 2]\n",
      "2 [1, 2]\n",
      "[0, 4, 5]\n",
      "5 [1, 4, 5]\n",
      "[2]\n",
      "2 [1, 4]\n",
      "[2, 6]\n",
      "6 [1, 6]\n",
      "[4]\n",
      "4 [1]\n",
      "[0, 3]\n",
      "3 [3]\n",
      "[1]\n",
      "1 []\n",
      "[0, 2, 5, 4, 6, 1, 3]\n"
     ]
    }
   ],
   "source": [
    "print(dfs(graphs, 0))"
   ]
  },
  {
   "cell_type": "markdown",
   "metadata": {},
   "source": [
    "# BFS (Breadth First Search)\n",
    "너비우선탐색\n",
    "\n",
    "연결된 edge 들의 list, queue, \n",
    "adjacency list 노드와 연결된 노드 리스트 \n",
    "\n",
    "1. root 노드를 current 에 넣고 현재 depth의 노드를 stack 에 넣고 인접 노드를 넣음\n",
    "2. current 변수에 pop 한 queue 값을 넣음 \n",
    "3. current 노드의 인접 노드를 방문한 후 visited list 에 current 노드를 넣음 \n",
    "\n",
    "최근접 알고리즘, 알수있는 친구 등.. 에 사용 "
   ]
  },
  {
   "cell_type": "code",
   "execution_count": 31,
   "metadata": {
    "collapsed": true
   },
   "outputs": [],
   "source": [
    "vertexList = ['A', 'B', 'C', 'D', 'E', 'F', 'G']\n",
    "edgeList = [(0,1), (1,2), (1,3), (3,4), (4,5), (1,6)]\n",
    "graphs = (vertexList, edgeList)"
   ]
  },
  {
   "cell_type": "code",
   "execution_count": 44,
   "metadata": {
    "collapsed": true
   },
   "outputs": [],
   "source": [
    "def bfs(graph, start):\n",
    "    vertexList, edgeList = graph\n",
    "    visitedList = []\n",
    "    queue = [start]\n",
    "    adjacencyList = [[] for vertex in vertexList]\n",
    "    \n",
    "    for edge in edgeList:\n",
    "        adjacencyList[edge[0]].append(edge[1])\n",
    "        print(edge[0], edge[1])\n",
    "        print(adjacencyList)\n",
    "    \n",
    "    print('\\n')\n",
    "    while queue:\n",
    "        current = queue.pop()\n",
    "        print(adjacencyList[current])\n",
    "        # 주변 이웃 돌기\n",
    "        for neighbor in adjacencyList[current]: \n",
    "            #방문한 노드가 아니면 queue 에 넣기 \n",
    "            if not neighbor in visitedList:\n",
    "                queue.insert(0, neighbor)\n",
    "        print(neighbor, queue)\n",
    "        visitedList.append(current)\n",
    "    return visitedList        \n",
    "        "
   ]
  },
  {
   "cell_type": "code",
   "execution_count": 45,
   "metadata": {},
   "outputs": [
    {
     "name": "stdout",
     "output_type": "stream",
     "text": [
      "0 1\n",
      "[[1], [], [], [], [], [], []]\n",
      "1 2\n",
      "[[1], [2], [], [], [], [], []]\n",
      "1 3\n",
      "[[1], [2, 3], [], [], [], [], []]\n",
      "3 4\n",
      "[[1], [2, 3], [], [4], [], [], []]\n",
      "4 5\n",
      "[[1], [2, 3], [], [4], [5], [], []]\n",
      "1 6\n",
      "[[1], [2, 3, 6], [], [4], [5], [], []]\n",
      "\n",
      "\n",
      "[1]\n",
      "1 [1]\n",
      "[2, 3, 6]\n",
      "6 [6, 3, 2]\n",
      "[]\n",
      "6 [6, 3]\n",
      "[4]\n",
      "4 [4, 6]\n",
      "[]\n",
      "4 [4]\n",
      "[5]\n",
      "5 [5]\n",
      "[]\n",
      "5 []\n",
      "[0, 1, 2, 3, 6, 4, 5]\n"
     ]
    }
   ],
   "source": [
    "print(bfs(graphs, 0))"
   ]
  },
  {
   "cell_type": "markdown",
   "metadata": {},
   "source": [
    "# Dijkstra algorithm \n",
    "최단 경로 검색 (다익스트라)\n",
    "\n",
    "<img src=\"shortest.png\"/>\n",
    "\n",
    "\n",
    "1. start A 부터 연결되어 있는 Edge weight 표를 작성함 \n",
    "2. 제일 작은 값을 찾아서 다음 행에 추가 \n",
    "3. 이미 방문한 노드는 제외하고 다른 연결되어 있는 Edge Weight 를 이전 행보다 작은 값이면 추가해주고 노드로 온 값의 노드 값을 적어줌 \n",
    "4. 나머지는 edge 가 없는 값은 그대로 적어줌 \n",
    "5. 끝노드 까지 반복 \n",
    "6. 끝에서 back tracking 해서 넣어줌 \n"
   ]
  },
  {
   "cell_type": "code",
   "execution_count": 46,
   "metadata": {
    "collapsed": true
   },
   "outputs": [],
   "source": [
    "class Graph(object):\n",
    "    def __init__(self):\n",
    "        self.nodes = set()\n",
    "        self.edges = {}\n",
    "        self.distances = {}\n",
    "\n",
    "    def add_node(self, value):\n",
    "        self.nodes.add(value)\n",
    "\n",
    "    def add_edge(self, from_node, to_node, distance):\n",
    "        self._add_edge(from_node, to_node, distance)\n",
    "        self._add_edge(to_node, from_node, distance)\n",
    "\n",
    "    def _add_edge(self, from_node, to_node, distance):\n",
    "        self.edges.setdefault(from_node, [])\n",
    "        self.edges[from_node].append(to_node)\n",
    "        self.distances[(from_node, to_node)] = distance"
   ]
  },
  {
   "cell_type": "code",
   "execution_count": 64,
   "metadata": {},
   "outputs": [
    {
     "name": "stdout",
     "output_type": "stream",
     "text": [
      "no :  {1, 2, 3, 4, 5, 6}\n",
      "\n",
      " edge:  {1: [2, 3, 4], 2: [1, 4, 6], 3: [1, 5], 4: [1, 2, 5, 6], 6: [2, 4, 5], 5: [3, 4, 6]}\n",
      "\n",
      " dist:  {(1, 2): 3, (2, 1): 3, (1, 3): 2, (3, 1): 2, (1, 4): 4, (4, 1): 4, (2, 4): 2, (4, 2): 2, (2, 6): 5, (6, 2): 5, (3, 5): 1, (5, 3): 1, (4, 5): 1, (5, 4): 1, (4, 6): 3, (6, 4): 3, (5, 6): 2, (6, 5): 2}\n"
     ]
    }
   ],
   "source": [
    "g = Graph()\n",
    "g.nodes = set(range(1, 7))\n",
    "g.add_edge(1, 2, 3)\n",
    "g.add_edge(1, 3, 2)\n",
    "g.add_edge(1, 4, 4)\n",
    "g.add_edge(2, 4, 2)\n",
    "g.add_edge(2, 6, 5)\n",
    "g.add_edge(3, 5, 1)\n",
    "g.add_edge(4, 5, 1)\n",
    "g.add_edge(4, 6, 3)\n",
    "g.add_edge(5, 6, 2)\n",
    "print('no : ',g.nodes)\n",
    "print('\\n edge: ',g.edges)\n",
    "print('\\n dist: ',g.distances)"
   ]
  },
  {
   "cell_type": "markdown",
   "metadata": {},
   "source": [
    "# "
   ]
  },
  {
   "cell_type": "code",
   "execution_count": 65,
   "metadata": {
    "collapsed": true
   },
   "outputs": [],
   "source": [
    "def dijkstra(graph, initial_node):\n",
    "    visited = {initial_node: 0}\n",
    "    current_node = initial_node\n",
    "    path = {}\n",
    "\n",
    "    nodes = set(graph.nodes)\n",
    "    print(nodes)\n",
    "    \n",
    "    while nodes:\n",
    "        min_node = None\n",
    "        for node in nodes:\n",
    "            if node in visited:\n",
    "                if min_node is None:\n",
    "                    min_node = node\n",
    "                elif visited[node] < visited[min_node]:\n",
    "                    min_node = node\n",
    "        print('min ',min_node)\n",
    "        if min_node is None:\n",
    "            break\n",
    "\n",
    "        nodes.remove(min_node)\n",
    "        cur_wt = visited[min_node]\n",
    "    \n",
    "        print('visit ',visited)\n",
    "        for edge in graph.edges[min_node]:\n",
    "            wt = cur_wt + graph.distances[(min_node, edge)]\n",
    "            if edge not in visited or wt < visited[edge]:\n",
    "                visited[edge] = wt\n",
    "                path[edge] = min_node\n",
    "            print(edge, visited)\n",
    "    return visited, path\n"
   ]
  },
  {
   "cell_type": "code",
   "execution_count": 63,
   "metadata": {},
   "outputs": [
    {
     "name": "stdout",
     "output_type": "stream",
     "text": [
      "{1, 2, 3, 4, 5, 6}\n",
      "min  1\n",
      "visit  {1: 0}\n",
      "2 {1: 0, 2: 3}\n",
      "3 {1: 0, 2: 3, 3: 2}\n",
      "4 {1: 0, 2: 3, 3: 2, 4: 4}\n",
      "min  3\n",
      "visit  {1: 0, 2: 3, 3: 2, 4: 4}\n",
      "1 {1: 0, 2: 3, 3: 2, 4: 4}\n",
      "5 {1: 0, 2: 3, 3: 2, 4: 4, 5: 3}\n",
      "min  2\n",
      "visit  {1: 0, 2: 3, 3: 2, 4: 4, 5: 3}\n",
      "1 {1: 0, 2: 3, 3: 2, 4: 4, 5: 3}\n",
      "4 {1: 0, 2: 3, 3: 2, 4: 4, 5: 3}\n",
      "6 {1: 0, 2: 3, 3: 2, 4: 4, 5: 3, 6: 8}\n",
      "min  5\n",
      "visit  {1: 0, 2: 3, 3: 2, 4: 4, 5: 3, 6: 8}\n",
      "3 {1: 0, 2: 3, 3: 2, 4: 4, 5: 3, 6: 8}\n",
      "4 {1: 0, 2: 3, 3: 2, 4: 4, 5: 3, 6: 8}\n",
      "6 {1: 0, 2: 3, 3: 2, 4: 4, 5: 3, 6: 5}\n",
      "min  4\n",
      "visit  {1: 0, 2: 3, 3: 2, 4: 4, 5: 3, 6: 5}\n",
      "1 {1: 0, 2: 3, 3: 2, 4: 4, 5: 3, 6: 5}\n",
      "2 {1: 0, 2: 3, 3: 2, 4: 4, 5: 3, 6: 5}\n",
      "5 {1: 0, 2: 3, 3: 2, 4: 4, 5: 3, 6: 5}\n",
      "6 {1: 0, 2: 3, 3: 2, 4: 4, 5: 3, 6: 5}\n",
      "min  6\n",
      "visit  {1: 0, 2: 3, 3: 2, 4: 4, 5: 3, 6: 5}\n",
      "2 {1: 0, 2: 3, 3: 2, 4: 4, 5: 3, 6: 5}\n",
      "4 {1: 0, 2: 3, 3: 2, 4: 4, 5: 3, 6: 5}\n",
      "5 {1: 0, 2: 3, 3: 2, 4: 4, 5: 3, 6: 5}\n",
      "{1: 0, 2: 3, 3: 2, 4: 4, 5: 3, 6: 5} {2: 1, 3: 1, 4: 1, 5: 3, 6: 5}\n"
     ]
    }
   ],
   "source": [
    "distances, paths = dijkstra(g, 1)\n",
    "print(distances, paths )"
   ]
  },
  {
   "cell_type": "code",
   "execution_count": 66,
   "metadata": {
    "collapsed": true
   },
   "outputs": [],
   "source": [
    "def shortest_path(graph, initial_node, goal_node):\n",
    "    distances, paths = dijkstra(graph, initial_node)\n",
    "    print(distances, paths )\n",
    "    route = [goal_node]\n",
    "\n",
    "    while goal_node != initial_node:\n",
    "        route.append(paths[goal_node])\n",
    "        goal_node = paths[goal_node]\n",
    "        print(route)\n",
    "    route.reverse()\n",
    "    return route"
   ]
  },
  {
   "cell_type": "code",
   "execution_count": 67,
   "metadata": {},
   "outputs": [
    {
     "name": "stdout",
     "output_type": "stream",
     "text": [
      "{1, 2, 3, 4, 5, 6}\n",
      "min  1\n",
      "visit  {1: 0}\n",
      "2 {1: 0, 2: 3}\n",
      "3 {1: 0, 2: 3, 3: 2}\n",
      "4 {1: 0, 2: 3, 3: 2, 4: 4}\n",
      "min  3\n",
      "visit  {1: 0, 2: 3, 3: 2, 4: 4}\n",
      "1 {1: 0, 2: 3, 3: 2, 4: 4}\n",
      "5 {1: 0, 2: 3, 3: 2, 4: 4, 5: 3}\n",
      "min  2\n",
      "visit  {1: 0, 2: 3, 3: 2, 4: 4, 5: 3}\n",
      "1 {1: 0, 2: 3, 3: 2, 4: 4, 5: 3}\n",
      "4 {1: 0, 2: 3, 3: 2, 4: 4, 5: 3}\n",
      "6 {1: 0, 2: 3, 3: 2, 4: 4, 5: 3, 6: 8}\n",
      "min  5\n",
      "visit  {1: 0, 2: 3, 3: 2, 4: 4, 5: 3, 6: 8}\n",
      "3 {1: 0, 2: 3, 3: 2, 4: 4, 5: 3, 6: 8}\n",
      "4 {1: 0, 2: 3, 3: 2, 4: 4, 5: 3, 6: 8}\n",
      "6 {1: 0, 2: 3, 3: 2, 4: 4, 5: 3, 6: 5}\n",
      "min  4\n",
      "visit  {1: 0, 2: 3, 3: 2, 4: 4, 5: 3, 6: 5}\n",
      "1 {1: 0, 2: 3, 3: 2, 4: 4, 5: 3, 6: 5}\n",
      "2 {1: 0, 2: 3, 3: 2, 4: 4, 5: 3, 6: 5}\n",
      "5 {1: 0, 2: 3, 3: 2, 4: 4, 5: 3, 6: 5}\n",
      "6 {1: 0, 2: 3, 3: 2, 4: 4, 5: 3, 6: 5}\n",
      "min  6\n",
      "visit  {1: 0, 2: 3, 3: 2, 4: 4, 5: 3, 6: 5}\n",
      "2 {1: 0, 2: 3, 3: 2, 4: 4, 5: 3, 6: 5}\n",
      "4 {1: 0, 2: 3, 3: 2, 4: 4, 5: 3, 6: 5}\n",
      "5 {1: 0, 2: 3, 3: 2, 4: 4, 5: 3, 6: 5}\n",
      "{1: 0, 2: 3, 3: 2, 4: 4, 5: 3, 6: 5} {2: 1, 3: 1, 4: 1, 5: 3, 6: 5}\n",
      "[6, 5]\n",
      "[6, 5, 3]\n",
      "[6, 5, 3, 1]\n"
     ]
    },
    {
     "data": {
      "text/plain": [
       "[1, 3, 5, 6]"
      ]
     },
     "execution_count": 67,
     "metadata": {},
     "output_type": "execute_result"
    }
   ],
   "source": [
    " shortest_path(g, 1, 6)"
   ]
  },
  {
   "cell_type": "markdown",
   "metadata": {},
   "source": [
    "# Permutation\n",
    "순열\n",
    "\n",
    "모든 조합 경우의 수 구하기 \n"
   ]
  },
  {
   "cell_type": "code",
   "execution_count": 68,
   "metadata": {},
   "outputs": [
    {
     "name": "stdout",
     "output_type": "stream",
     "text": [
      "[1, 2, 3]\n",
      "[1, 3, 2]\n",
      "[2, 1, 3]\n",
      "[2, 3, 1]\n",
      "[3, 2, 1]\n",
      "[3, 1, 2]\n"
     ]
    }
   ],
   "source": [
    "def perm(n, i):\n",
    "    if i == len(n) - 1:\n",
    "        print(n)\n",
    "    else:\n",
    "        for j in range(i, len(n)):\n",
    "            n[i], n[j] = n[j], n[i]\n",
    "            perm(n, i + 1)\n",
    "            n[i], n[j] = n[j], n[i]  # swap back, for the next loop\n",
    "\n",
    "\n",
    "perm([1, 2, 3], 0)"
   ]
  }
 ],
 "metadata": {
  "kernelspec": {
   "display_name": "Python 3",
   "language": "python",
   "name": "python3"
  },
  "language_info": {
   "codemirror_mode": {
    "name": "ipython",
    "version": 3
   },
   "file_extension": ".py",
   "mimetype": "text/x-python",
   "name": "python",
   "nbconvert_exporter": "python",
   "pygments_lexer": "ipython3",
   "version": "3.6.1"
  }
 },
 "nbformat": 4,
 "nbformat_minor": 2
}
