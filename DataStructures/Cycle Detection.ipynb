{
 "cells": [
  {
   "cell_type": "markdown",
   "metadata": {},
   "source": [
    "## 문제"
   ]
  },
  {
   "cell_type": "markdown",
   "metadata": {},
   "source": [
    "https://www.hackerrank.com/challenges/detect-whether-a-linked-list-contains-a-cycle\n",
    "\n",
    "Cycle Detection\n",
    "\n",
    "A linked list is said to contain a cycle if any node is visited more than once while traversing the list.\n",
    "\n",
    "Complete the function provided for you in your editor. It has one parameter: a pointer to a Node object named  that points to the head of a linked list. Your function must return a boolean denoting whether or not there is a cycle in the list. If there is a cycle, return true; otherwise, return false.\n",
    "\n",
    "Note: If the list is empty,  will be null.\n",
    "\n",
    "Input Format\n",
    "\n",
    "Our hidden code checker passes the appropriate argument to your function. You are not responsible for reading any input from stdin.\n",
    "\n",
    "Constraints\n",
    "\n",
    "Output Format\n",
    "\n",
    "If the list contains a cycle, your function must return true. If the list does not contain a cycle, it must return false. The binary integer corresponding to the boolean value returned by your function is printed to stdout by our hidden code checker.\n",
    "\n",
    "Sample Input\n",
    "\n",
    "The following linked lists are passed as arguments to your function:\n",
    "\n",
    "Sample Inputs\n",
    "    #image\n",
    "Sample Output\n",
    "\n",
    "0\n",
    "1\n",
    "Explanation\n",
    "\n",
    "The first list has no cycle, so we return false and the hidden code checker prints  to stdout.\n",
    "The second list has a cycle, so we return true and the hidden code checker prints  to stdout."
   ]
  },
  {
   "cell_type": "markdown",
   "metadata": {},
   "source": [
    "## 해설"
   ]
  },
  {
   "cell_type": "code",
   "execution_count": 1,
   "metadata": {
    "collapsed": true
   },
   "outputs": [],
   "source": [
    "def has_cycle(head):\n",
    "    print(head.data)\n",
    "    if head is None or head.next is None :\n",
    "        return False\n",
    "    else:\n",
    "        if head.data == 99 :\n",
    "            return True\n",
    "        else:\n",
    "            head.data = 99\n",
    "            has_cycle(head.next)\n",
    "        return True"
   ]
  },
  {
   "cell_type": "code",
   "execution_count": null,
   "metadata": {
    "collapsed": true
   },
   "outputs": [],
   "source": []
  }
 ],
 "metadata": {
  "kernelspec": {
   "display_name": "Python 3",
   "language": "python",
   "name": "python3"
  },
  "language_info": {
   "codemirror_mode": {
    "name": "ipython",
    "version": 3
   },
   "file_extension": ".py",
   "mimetype": "text/x-python",
   "name": "python",
   "nbconvert_exporter": "python",
   "pygments_lexer": "ipython3",
   "version": "3.6.1"
  }
 },
 "nbformat": 4,
 "nbformat_minor": 2
}
