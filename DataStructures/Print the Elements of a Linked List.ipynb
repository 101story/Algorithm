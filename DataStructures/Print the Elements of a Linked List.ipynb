{
 "cells": [
  {
   "cell_type": "markdown",
   "metadata": {},
   "source": [
    "## 문제"
   ]
  },
  {
   "cell_type": "markdown",
   "metadata": {},
   "source": [
    "https://www.hackerrank.com/challenges/print-the-elements-of-a-linked-list\n",
    "\n",
    "If you're new to linked lists, this is a great exercise for learning about them. Given a pointer to the head node of a linked list, print its elements in order, one element per line. If the head pointer is null (indicating the list is empty), don’t print anything.\n",
    "\n",
    "Input Format\n",
    "\n",
    "The void Print(Node* head) method takes the head node of a linked list as a parameter. Each struct Node has a data field (which stores integer data) and a next field (which points to the next element in the list).\n",
    "\n",
    "Note: Do not read any input from stdin/console. Each test case calls the Print method individually and passes it the head of a list.\n",
    "\n",
    "Output Format\n",
    "\n",
    "Print the integer data for each element of the linked list to stdout/console (e.g.: using printf, cout, etc.). There should be one element per line.\n",
    "\n",
    "Sample Input\n",
    "\n",
    "This example uses the following two linked lists:\n",
    "\n",
    "NULL  \n",
    "1->2->3->NULL\n",
    "\n",
    "NULL and Node1 are the two head nodes passed as arguments to Print(Node* head).\n",
    "\n",
    "Note: In linked list diagrams, -> describes a pointer to the next node in the list.\n",
    "\n",
    "Sample Output\n",
    "\n",
    "1\n",
    "2\n",
    "3\n",
    "Explanation\n",
    "\n",
    "Test Case 0: NULL. An empty list is passed to the method, so nothing is printed. \n",
    "Test Case 1: 1->2->3->NULL. This is a non-empty list so we loop through each element, printing each element's data field on its own line."
   ]
  },
  {
   "cell_type": "markdown",
   "metadata": {},
   "source": [
    "## 해설"
   ]
  },
  {
   "cell_type": "code",
   "execution_count": 2,
   "metadata": {
    "collapsed": true
   },
   "outputs": [],
   "source": [
    "def print_list(head):\n",
    "    if isinstance(head.next, Node):\n",
    "        print(head.data)\n",
    "        print_list(head.next)\n",
    "    else:\n",
    "        print(head.data)"
   ]
  },
  {
   "cell_type": "code",
   "execution_count": null,
   "metadata": {
    "collapsed": true
   },
   "outputs": [],
   "source": []
  }
 ],
 "metadata": {
  "kernelspec": {
   "display_name": "Python 3",
   "language": "python",
   "name": "python3"
  },
  "language_info": {
   "codemirror_mode": {
    "name": "ipython",
    "version": 3
   },
   "file_extension": ".py",
   "mimetype": "text/x-python",
   "name": "python",
   "nbconvert_exporter": "python",
   "pygments_lexer": "ipython3",
   "version": "3.6.1"
  }
 },
 "nbformat": 4,
 "nbformat_minor": 2
}
