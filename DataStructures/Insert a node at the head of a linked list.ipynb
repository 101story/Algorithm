{
 "cells": [
  {
   "cell_type": "markdown",
   "metadata": {},
   "source": [
    "## 문제"
   ]
  },
  {
   "cell_type": "markdown",
   "metadata": {},
   "source": [
    "https://www.hackerrank.com/challenges/insert-a-node-at-the-head-of-a-linked-list/problem\n",
    "\n",
    "You’re given the pointer to the head node of a linked list and an integer to add to the list. Create a new node with the given integer, insert this node at the head of the linked list and return the new head node. The head pointer given may be null meaning that the initial list is empty.\n",
    "\n",
    "Input Format \n",
    "You have to complete the Node* Insert(Node* head, int data) method which takes two arguments - the head of the linked list and the integer to insert. You should NOT read any input from stdin/console.\n",
    "\n",
    "Output Format \n",
    "Insert the new node at the head and return the head of the updated linked list. Do NOT print anything to stdout/console.\n",
    "\n",
    "Sample Input\n",
    "\n",
    "NULL , data = 1 <br>\n",
    "1 --> NULL , data = 2\n",
    "\n",
    "Sample Output\n",
    "\n",
    "1 --> NULL<br>\n",
    "2 --> 1 --> NULL\n",
    "Explanation \n",
    "1. We have an empty list, on inserting 1, 1 becomes new head. \n",
    "2. We have a list with 1 as head, on inserting 2, 2 becomes the new head."
   ]
  },
  {
   "cell_type": "markdown",
   "metadata": {},
   "source": [
    "## 해설"
   ]
  },
  {
   "cell_type": "code",
   "execution_count": null,
   "metadata": {
    "collapsed": true
   },
   "outputs": [],
   "source": [
    "def Insert(head, data):\n",
    "    if head is None :\n",
    "        return Node(data, None)\n",
    "    else:\n",
    "        return Node(data, head)"
   ]
  }
 ],
 "metadata": {
  "kernelspec": {
   "display_name": "Python 3",
   "language": "python",
   "name": "python3"
  },
  "language_info": {
   "codemirror_mode": {
    "name": "ipython",
    "version": 3
   },
   "file_extension": ".py",
   "mimetype": "text/x-python",
   "name": "python",
   "nbconvert_exporter": "python",
   "pygments_lexer": "ipython3",
   "version": "3.6.1"
  }
 },
 "nbformat": 4,
 "nbformat_minor": 2
}
