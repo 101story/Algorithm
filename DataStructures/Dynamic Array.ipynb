{
 "cells": [
  {
   "cell_type": "markdown",
   "metadata": {},
   "source": [
    "# 문제"
   ]
  },
  {
   "cell_type": "markdown",
   "metadata": {},
   "source": [
    "https://www.hackerrank.com/challenges/dynamic-array <br>\n",
    "Create a list,seqList of  N empty sequences, where each sequence is indexed from 0 to N-1. <br>\n",
    "The elements within each of the  N sequences also use 0-indexing.<br>\n",
    "Create an integer, LastAnswer , and initialize it to 0 .<br>\n",
    "<br>\n",
    "The 2 types of queries that can be performed on your list of sequences (seqList) are described below:<br>\n",
    "<br>\n",
    "Query: 1 x y : 선택된 seq 에 Array 에 y 값을 추가<br>\n",
    "1.Find the sequence, seq , at index ((x*LastAnswer) % N) in seqList .<br>\n",
    "2.Append integer y to sequence seq .<br>\n",
    "<br>\n",
    "Query: 2 x y : LastAnswer 를 새로 할당<br>\n",
    "1.Find the sequence,seq , at index((x*LastAnswer) % N)  in seqList .<br>\n",
    "2.Find the value of element y%size in seq (where size is the size of seq ) and assign it to LastAnswer .<br>\n",
    "    -> 찾은 seq 에 y%size 값을 찾아서 LastAnswer 로 할당<br>\n",
    "3.Print the new value of  LastAnswer on a new line<br>\n",
    "<br>\n",
    "2 5<br>\n",
    "1 0 5<br>\n",
    "1 1 7<br>\n",
    "1 0 3<br>\n",
    "2 1 0<br>\n",
    "2 1 1"
   ]
  },
  {
   "cell_type": "code",
   "execution_count": 1,
   "metadata": {
    "collapsed": false
   },
   "outputs": [],
   "source": [
    "class Dynamic:\n",
    "   \n",
    "    def __init__(self, n):\n",
    "        self.lastAnswer = 0\n",
    "        self.seqList= []\n",
    "        self.n = n\n",
    "        for i in range(n):\n",
    "            self.seqList.append([])\n",
    "            \n",
    "    def query(self, q, x, y):\n",
    "        if q == 1:\n",
    "            seq = (x^self.lastAnswer)%self.n\n",
    "            self.seqList[seq].append(y)\n",
    "        elif q == 2:\n",
    "            seq = (x^self.lastAnswer)%self.n\n",
    "            self.lastAnswer = self.seqList[seq][y%len(self.seqList[seq])]\n",
    "            print(\"LastAnswer = \", self.lastAnswer)"
   ]
  },
  {
   "cell_type": "code",
   "execution_count": 2,
   "metadata": {
    "collapsed": false
   },
   "outputs": [
    {
     "name": "stdout",
     "output_type": "stream",
     "text": [
      "[[], []]\n"
     ]
    }
   ],
   "source": [
    "dy = Dynamic(2)\n",
    "print(dy.seqList)"
   ]
  },
  {
   "cell_type": "code",
   "execution_count": 3,
   "metadata": {
    "collapsed": false
   },
   "outputs": [
    {
     "name": "stdout",
     "output_type": "stream",
     "text": [
      "[[5], []]\n"
     ]
    }
   ],
   "source": [
    "dy.query(1, 0, 5)\n",
    "print(dy.seqList)"
   ]
  },
  {
   "cell_type": "code",
   "execution_count": 4,
   "metadata": {
    "collapsed": false
   },
   "outputs": [
    {
     "name": "stdout",
     "output_type": "stream",
     "text": [
      "[[5], [7]]\n"
     ]
    }
   ],
   "source": [
    "dy.query(1, 1, 7)\n",
    "print(dy.seqList)"
   ]
  },
  {
   "cell_type": "code",
   "execution_count": 5,
   "metadata": {
    "collapsed": false
   },
   "outputs": [
    {
     "name": "stdout",
     "output_type": "stream",
     "text": [
      "[[5, 3], [7]]\n"
     ]
    }
   ],
   "source": [
    "dy.query(1, 0, 3)\n",
    "print(dy.seqList)"
   ]
  },
  {
   "cell_type": "code",
   "execution_count": 6,
   "metadata": {
    "collapsed": false
   },
   "outputs": [
    {
     "name": "stdout",
     "output_type": "stream",
     "text": [
      "LastAnswer =  7\n",
      "[[5, 3], [7]]\n"
     ]
    }
   ],
   "source": [
    "dy.query(2, 1, 0)\n",
    "print(dy.seqList)"
   ]
  },
  {
   "cell_type": "code",
   "execution_count": 7,
   "metadata": {
    "collapsed": false
   },
   "outputs": [
    {
     "name": "stdout",
     "output_type": "stream",
     "text": [
      "LastAnswer =  3\n",
      "[[5, 3], [7]]\n"
     ]
    }
   ],
   "source": [
    "dy.query(2, 1, 1)\n",
    "print(dy.seqList)"
   ]
  },
  {
   "cell_type": "code",
   "execution_count": 8,
   "metadata": {
    "collapsed": false
   },
   "outputs": [
    {
     "name": "stdout",
     "output_type": "stream",
     "text": [
      "2 5\n",
      "1 0 5\n",
      "1 1 7\n",
      "1 0 3\n",
      "2 1 0\n",
      "LastAnswer =  7\n",
      "2 1 1 \n",
      "LastAnswer =  3\n"
     ]
    }
   ],
   "source": [
    "indata = input()\n",
    "n, count = indata.split()\n",
    "dy = Dynamic(int(n))\n",
    "for i in range(int(count)):\n",
    "    indata = input()\n",
    "    q, x, y = indata.split()\n",
    "    dy.query(int(q),int(x),int(y))"
   ]
  },
  {
   "cell_type": "code",
   "execution_count": null,
   "metadata": {
    "collapsed": true
   },
   "outputs": [],
   "source": []
  }
 ],
 "metadata": {
  "kernelspec": {
   "display_name": "Python 3",
   "language": "python",
   "name": "python3"
  },
  "language_info": {
   "codemirror_mode": {
    "name": "ipython",
    "version": 3
   },
   "file_extension": ".py",
   "mimetype": "text/x-python",
   "name": "python",
   "nbconvert_exporter": "python",
   "pygments_lexer": "ipython3",
   "version": "3.6.0"
  }
 },
 "nbformat": 4,
 "nbformat_minor": 2
}
