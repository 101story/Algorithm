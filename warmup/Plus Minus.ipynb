{
 "cells": [
  {
   "cell_type": "markdown",
   "metadata": {},
   "source": [
    "Given an array of integers, calculate which fraction of its elements are positive, which fraction of its elements are negative, and which fraction of its elements are zeroes, respectively. Print the decimal value of each fraction on a new line.\n",
    "\n",
    "**Note:** This challenge introduces precision problems. The test cases are scaled to six decimal places, though answers with absolute error of up to $10^{-4}$ are acceptable.\n",
    "\n",
    "**Input Format**\n",
    "\n",
    "The first line contains an integer,N , denoting the size of the array. <br>\n",
    "The second line contains N space-separated integers describing an array of numbers (a1,a2,a3..an-1).\n",
    "\n",
    "**Output Format**\n",
    "\n",
    "You must print the following 3 lines:\n",
    "\n",
    "1. A decimal representing of the fraction of positive numbers in the array compared to its size.\n",
    "2. A decimal representing of the fraction of negative numbers in the array compared to its size.\n",
    "3. A decimal representing of the fraction of zeroes in the array compared to its size.\n",
    "\n",
    "**Sample Input**\n",
    "\n",
    "6<br>\n",
    "-4 3 -9 0 4 1 \n",
    "\n",
    "**Sample Output**\n",
    "\n",
    "0.500000<br>\n",
    "0.333333<br>\n",
    "0.166667\n",
    "\n",
    "**Explanation**\n",
    "\n",
    "There are 3 positive numbers, 2 negative numbers, and 1 zero in the array. \n",
    "The respective fractions of positive numbers, negative numbers and zeroes are 3/6=0.500000 , 2/6=0.333333 and 1/6=0.166667, respectively."
   ]
  },
  {
   "cell_type": "code",
   "execution_count": 14,
   "metadata": {},
   "outputs": [
    {
     "name": "stdout",
     "output_type": "stream",
     "text": [
      "0.5\n",
      "0.333333\n",
      "0.166667\n"
     ]
    }
   ],
   "source": [
    "n = 6\n",
    "arr = [-4, 3, -9, 0, 4, 1]\n",
    "plus = [ x for x in arr if x>0]\n",
    "minus = [ x for x in arr if x==0]\n",
    "zero = [ x for x in arr if x <0]\n",
    "\n",
    "avgP = round(len(plus)/n, 6)\n",
    "avgM = round(len(minus)/n, 6)\n",
    "avgZ =round(len(zero)/n, 6)\n",
    "\n",
    "print(avgP)\n",
    "print(avgZ)\n",
    "print(avgM)\n"
   ]
  },
  {
   "cell_type": "code",
   "execution_count": null,
   "metadata": {
    "collapsed": true
   },
   "outputs": [],
   "source": []
  }
 ],
 "metadata": {
  "kernelspec": {
   "display_name": "Python 3",
   "language": "python",
   "name": "python3"
  },
  "language_info": {
   "codemirror_mode": {
    "name": "ipython",
    "version": 3
   },
   "file_extension": ".py",
   "mimetype": "text/x-python",
   "name": "python",
   "nbconvert_exporter": "python",
   "pygments_lexer": "ipython3",
   "version": "3.6.1"
  }
 },
 "nbformat": 4,
 "nbformat_minor": 2
}
